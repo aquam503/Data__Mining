{
 "cells": [
  {
   "cell_type": "markdown",
   "id": "83fbd0ef",
   "metadata": {},
   "source": [
    "# <center> Web Scraping using Selenium \n",
    "    \n",
    "## <center> Available iphones on ebay.fr"
   ]
  },
  {
   "cell_type": "markdown",
   "id": "cbdf55e2",
   "metadata": {},
   "source": [
    "Some characteristics of HTML scraping with Selenium it:\n",
    "- can handle javascript, \n",
    "- get HTML back after the Javascript has been rendered,\n",
    "- can behave like a person, though it can be slow.\n",
    "\n",
    "Requirements (one of the below):\n",
    "\n",
    "Firefox + geckodriver (https://github.com/mozilla/geckodriver/releases)\n",
    "    \n",
    "    \n",
    "Chrome + chromedriver (https://sites.google.com/a/chromium.org/chromedriver/)"
   ]
  },
  {
   "cell_type": "markdown",
   "id": "fd897209",
   "metadata": {},
   "source": [
    "## Install"
   ]
  },
  {
   "cell_type": "markdown",
   "id": "805f9ab5",
   "metadata": {},
   "source": [
    "                                          \n",
    "- Install selenium \n",
    "- download Chrome WebDriver (or geckodriver) and put it in the some locatin of your program\n"
   ]
  },
  {
   "cell_type": "markdown",
   "id": "3bca60fe",
   "metadata": {},
   "source": [
    "## Import "
   ]
  },
  {
   "cell_type": "code",
   "execution_count": 1,
   "id": "7c5ccf57",
   "metadata": {},
   "outputs": [],
   "source": [
    "from time import sleep\n",
    "from selenium import webdriver\n",
    "#from selenium.webdriver.common.by import By"
   ]
  },
  {
   "cell_type": "code",
   "execution_count": 2,
   "id": "46708bad",
   "metadata": {},
   "outputs": [],
   "source": [
    "# Open the driver (change the executable path to geckodriver_mac.exe or geckodriver.exe)\n",
    "driver = webdriver.Chrome(executable_path=\"chromedriver\")\n"
   ]
  },
  {
   "cell_type": "code",
   "execution_count": 19,
   "id": "0195319d",
   "metadata": {},
   "outputs": [],
   "source": [
    "#driver.set_window_size(1750,800)"
   ]
  },
  {
   "cell_type": "code",
   "execution_count": 20,
   "id": "5a5eac88",
   "metadata": {},
   "outputs": [],
   "source": [
    "# The first thing you’ll want to do with WebDriver is navigate to a link.\n",
    "#The normal way to do this is by calling get method to eBay.fr with our research request in this cas iphones\n",
    "driver.get(\"https://www.ebay.fr/sch/15032/i.html?_from=R40&_nkw=iphones+\")\n",
    " \n",
    "# En fonction de notre connection et des performance de notre machine il faudra attendre\n",
    " \n",
    "# que la page charge avant de passer à la suite\n",
    "sleep(10)"
   ]
  },
  {
   "cell_type": "markdown",
   "id": "32362160",
   "metadata": {},
   "source": [
    "## Localise data"
   ]
  },
  {
   "cell_type": "code",
   "execution_count": 21,
   "id": "33dbfc52",
   "metadata": {},
   "outputs": [],
   "source": [
    "results = driver.find_elements_by_xpath('//li[@class=\"s-item s-item__pl-on-bottom\"]')"
   ]
  },
  {
   "cell_type": "code",
   "execution_count": 22,
   "id": "9ce0034f",
   "metadata": {},
   "outputs": [
    {
     "data": {
      "text/plain": [
       "60"
      ]
     },
     "execution_count": 22,
     "metadata": {},
     "output_type": "execute_result"
    }
   ],
   "source": [
    "len(results)"
   ]
  },
  {
   "cell_type": "code",
   "execution_count": 23,
   "id": "20ea2a81",
   "metadata": {},
   "outputs": [
    {
     "data": {
      "text/plain": [
       "[<selenium.webdriver.remote.webelement.WebElement (session=\"5aa8b8d997365ead67e50e92d71eab23\", element=\"a0b3d0a7-2304-4cd6-b6dd-058aae2009a9\")>,\n",
       " <selenium.webdriver.remote.webelement.WebElement (session=\"5aa8b8d997365ead67e50e92d71eab23\", element=\"049a6745-1849-47c0-b84a-7d5c652e8a79\")>,\n",
       " <selenium.webdriver.remote.webelement.WebElement (session=\"5aa8b8d997365ead67e50e92d71eab23\", element=\"8376e773-a316-45eb-be6b-b3a88605c644\")>,\n",
       " <selenium.webdriver.remote.webelement.WebElement (session=\"5aa8b8d997365ead67e50e92d71eab23\", element=\"c3ae3c5e-2b0c-4482-8b1f-bbb2f74855a3\")>,\n",
       " <selenium.webdriver.remote.webelement.WebElement (session=\"5aa8b8d997365ead67e50e92d71eab23\", element=\"e90fd0b2-d7fd-4822-83d7-9eb871b6b5a2\")>,\n",
       " <selenium.webdriver.remote.webelement.WebElement (session=\"5aa8b8d997365ead67e50e92d71eab23\", element=\"713b4246-92b3-48a2-bbab-3b8699410154\")>,\n",
       " <selenium.webdriver.remote.webelement.WebElement (session=\"5aa8b8d997365ead67e50e92d71eab23\", element=\"fc2f72b8-011b-4d47-83d1-b1960c0a3c89\")>,\n",
       " <selenium.webdriver.remote.webelement.WebElement (session=\"5aa8b8d997365ead67e50e92d71eab23\", element=\"47529546-956a-4756-9ab7-b1327a81ac5d\")>,\n",
       " <selenium.webdriver.remote.webelement.WebElement (session=\"5aa8b8d997365ead67e50e92d71eab23\", element=\"b2130b9c-81c5-4ddb-b2d0-edfae1ce8302\")>,\n",
       " <selenium.webdriver.remote.webelement.WebElement (session=\"5aa8b8d997365ead67e50e92d71eab23\", element=\"5c85b9bd-5876-4c54-98ed-31ec0d98f1ef\")>,\n",
       " <selenium.webdriver.remote.webelement.WebElement (session=\"5aa8b8d997365ead67e50e92d71eab23\", element=\"c84e6a22-51e1-4e93-9d96-ef68343b085e\")>,\n",
       " <selenium.webdriver.remote.webelement.WebElement (session=\"5aa8b8d997365ead67e50e92d71eab23\", element=\"73933ec6-2c54-4cc6-ab30-1e1e400b31dd\")>,\n",
       " <selenium.webdriver.remote.webelement.WebElement (session=\"5aa8b8d997365ead67e50e92d71eab23\", element=\"1cc75157-27e5-4d50-9279-f30ecba94409\")>,\n",
       " <selenium.webdriver.remote.webelement.WebElement (session=\"5aa8b8d997365ead67e50e92d71eab23\", element=\"989a4ce1-570e-4794-9e0f-58bb6592dfc4\")>,\n",
       " <selenium.webdriver.remote.webelement.WebElement (session=\"5aa8b8d997365ead67e50e92d71eab23\", element=\"2f8cd177-1db0-4a3c-acca-98b043756110\")>,\n",
       " <selenium.webdriver.remote.webelement.WebElement (session=\"5aa8b8d997365ead67e50e92d71eab23\", element=\"0563d531-adae-4145-aac4-d849448fc8a0\")>,\n",
       " <selenium.webdriver.remote.webelement.WebElement (session=\"5aa8b8d997365ead67e50e92d71eab23\", element=\"01be1951-2f99-4193-a6ad-63d9ac2ea4c4\")>,\n",
       " <selenium.webdriver.remote.webelement.WebElement (session=\"5aa8b8d997365ead67e50e92d71eab23\", element=\"cc0aa17f-24f4-492b-8b2a-e8fa710e37f7\")>,\n",
       " <selenium.webdriver.remote.webelement.WebElement (session=\"5aa8b8d997365ead67e50e92d71eab23\", element=\"ca346c98-2da5-4a5b-a36c-22a1d120b6bb\")>,\n",
       " <selenium.webdriver.remote.webelement.WebElement (session=\"5aa8b8d997365ead67e50e92d71eab23\", element=\"75950030-c8c3-4bab-9cf7-e0cd2cfbb2dd\")>,\n",
       " <selenium.webdriver.remote.webelement.WebElement (session=\"5aa8b8d997365ead67e50e92d71eab23\", element=\"a950807b-accb-463e-9b2e-d6a897efdf3d\")>,\n",
       " <selenium.webdriver.remote.webelement.WebElement (session=\"5aa8b8d997365ead67e50e92d71eab23\", element=\"55b3ff2b-0395-40e2-9248-1968b4d18ce0\")>,\n",
       " <selenium.webdriver.remote.webelement.WebElement (session=\"5aa8b8d997365ead67e50e92d71eab23\", element=\"e321242c-2f9b-46bb-84b8-3e55c6c563d4\")>,\n",
       " <selenium.webdriver.remote.webelement.WebElement (session=\"5aa8b8d997365ead67e50e92d71eab23\", element=\"50a8ef38-0c6a-44cc-960e-8a41757fe9dc\")>,\n",
       " <selenium.webdriver.remote.webelement.WebElement (session=\"5aa8b8d997365ead67e50e92d71eab23\", element=\"c23d4cb3-e9ca-48a4-8c4b-d3b17f323ec4\")>,\n",
       " <selenium.webdriver.remote.webelement.WebElement (session=\"5aa8b8d997365ead67e50e92d71eab23\", element=\"15e74b18-6f35-4602-a063-1c041affc026\")>,\n",
       " <selenium.webdriver.remote.webelement.WebElement (session=\"5aa8b8d997365ead67e50e92d71eab23\", element=\"bb901604-e83e-4bcc-bba4-ef1262f6ef3a\")>,\n",
       " <selenium.webdriver.remote.webelement.WebElement (session=\"5aa8b8d997365ead67e50e92d71eab23\", element=\"10e66709-24e6-4a00-8b9c-db8b453b466a\")>,\n",
       " <selenium.webdriver.remote.webelement.WebElement (session=\"5aa8b8d997365ead67e50e92d71eab23\", element=\"02ee04f6-5b1c-4e58-baf3-c611c633bd0d\")>,\n",
       " <selenium.webdriver.remote.webelement.WebElement (session=\"5aa8b8d997365ead67e50e92d71eab23\", element=\"bece09ad-d6b4-487d-87ed-4ed1e40a6b71\")>,\n",
       " <selenium.webdriver.remote.webelement.WebElement (session=\"5aa8b8d997365ead67e50e92d71eab23\", element=\"e48c2cfa-4d98-4f7b-b207-4a1a3214580b\")>,\n",
       " <selenium.webdriver.remote.webelement.WebElement (session=\"5aa8b8d997365ead67e50e92d71eab23\", element=\"0fa54d28-2fa5-4ccc-a68b-c092700db950\")>,\n",
       " <selenium.webdriver.remote.webelement.WebElement (session=\"5aa8b8d997365ead67e50e92d71eab23\", element=\"6f2f25a9-07f7-4c82-87e9-a2d78081ece4\")>,\n",
       " <selenium.webdriver.remote.webelement.WebElement (session=\"5aa8b8d997365ead67e50e92d71eab23\", element=\"36c753ea-4107-4bb5-a0aa-7f605257eff0\")>,\n",
       " <selenium.webdriver.remote.webelement.WebElement (session=\"5aa8b8d997365ead67e50e92d71eab23\", element=\"195699bc-8804-4fb4-9f7a-1451846a4b2a\")>,\n",
       " <selenium.webdriver.remote.webelement.WebElement (session=\"5aa8b8d997365ead67e50e92d71eab23\", element=\"c262409d-27dd-46c5-8a0f-5901f202fd5a\")>,\n",
       " <selenium.webdriver.remote.webelement.WebElement (session=\"5aa8b8d997365ead67e50e92d71eab23\", element=\"2215f297-e6d4-446c-808f-172a3f5467b0\")>,\n",
       " <selenium.webdriver.remote.webelement.WebElement (session=\"5aa8b8d997365ead67e50e92d71eab23\", element=\"70bb5052-b39a-4760-b746-b1a8d2e9d1b5\")>,\n",
       " <selenium.webdriver.remote.webelement.WebElement (session=\"5aa8b8d997365ead67e50e92d71eab23\", element=\"87fa43e9-ef44-4d18-83d0-90dd8f46af20\")>,\n",
       " <selenium.webdriver.remote.webelement.WebElement (session=\"5aa8b8d997365ead67e50e92d71eab23\", element=\"5161d0c6-190e-4d83-8aac-c311030d79ce\")>,\n",
       " <selenium.webdriver.remote.webelement.WebElement (session=\"5aa8b8d997365ead67e50e92d71eab23\", element=\"39fc40a0-2163-4cd2-9c2b-ff6fbea69aa0\")>,\n",
       " <selenium.webdriver.remote.webelement.WebElement (session=\"5aa8b8d997365ead67e50e92d71eab23\", element=\"7c006f47-d4aa-44a1-a017-f0cbd2a2554e\")>,\n",
       " <selenium.webdriver.remote.webelement.WebElement (session=\"5aa8b8d997365ead67e50e92d71eab23\", element=\"cf5dff33-21e7-4a35-b147-fab660771227\")>,\n",
       " <selenium.webdriver.remote.webelement.WebElement (session=\"5aa8b8d997365ead67e50e92d71eab23\", element=\"71dea388-ec45-4932-9d99-d6dd06f1e07f\")>,\n",
       " <selenium.webdriver.remote.webelement.WebElement (session=\"5aa8b8d997365ead67e50e92d71eab23\", element=\"9b9a1ca4-ef00-4eee-9ce1-0274e886f7b7\")>,\n",
       " <selenium.webdriver.remote.webelement.WebElement (session=\"5aa8b8d997365ead67e50e92d71eab23\", element=\"76dc1c9c-696c-45ff-9b84-0b5337a53d51\")>,\n",
       " <selenium.webdriver.remote.webelement.WebElement (session=\"5aa8b8d997365ead67e50e92d71eab23\", element=\"c901977b-3d04-4212-bd11-22d8a08d4a6b\")>,\n",
       " <selenium.webdriver.remote.webelement.WebElement (session=\"5aa8b8d997365ead67e50e92d71eab23\", element=\"6ccde1fa-7323-494f-9c35-6932f98e6f07\")>,\n",
       " <selenium.webdriver.remote.webelement.WebElement (session=\"5aa8b8d997365ead67e50e92d71eab23\", element=\"8a0994e8-c4c3-49b1-a771-3525c4c16447\")>,\n",
       " <selenium.webdriver.remote.webelement.WebElement (session=\"5aa8b8d997365ead67e50e92d71eab23\", element=\"d13359dd-2008-494d-a242-c4016bd491e5\")>,\n",
       " <selenium.webdriver.remote.webelement.WebElement (session=\"5aa8b8d997365ead67e50e92d71eab23\", element=\"6cbd86a3-887b-4859-89e1-5bbed388a3df\")>,\n",
       " <selenium.webdriver.remote.webelement.WebElement (session=\"5aa8b8d997365ead67e50e92d71eab23\", element=\"00dd5c52-f3d7-4430-aad6-f0511db69889\")>,\n",
       " <selenium.webdriver.remote.webelement.WebElement (session=\"5aa8b8d997365ead67e50e92d71eab23\", element=\"511e9b77-9f97-4e5f-b7ac-bd09d131ee00\")>,\n",
       " <selenium.webdriver.remote.webelement.WebElement (session=\"5aa8b8d997365ead67e50e92d71eab23\", element=\"bd9c2650-5dac-4e2f-8492-48a63fafd33c\")>,\n",
       " <selenium.webdriver.remote.webelement.WebElement (session=\"5aa8b8d997365ead67e50e92d71eab23\", element=\"451f2f6b-3374-4007-8c2e-55082ef2badd\")>,\n",
       " <selenium.webdriver.remote.webelement.WebElement (session=\"5aa8b8d997365ead67e50e92d71eab23\", element=\"604fb0d0-a3da-486f-a721-17fa88116672\")>,\n",
       " <selenium.webdriver.remote.webelement.WebElement (session=\"5aa8b8d997365ead67e50e92d71eab23\", element=\"d2bac1e9-9e82-4f84-b5e7-ab9a79b81b79\")>,\n",
       " <selenium.webdriver.remote.webelement.WebElement (session=\"5aa8b8d997365ead67e50e92d71eab23\", element=\"7cad2371-df7c-49d7-a9c0-5bfcccddaae1\")>,\n",
       " <selenium.webdriver.remote.webelement.WebElement (session=\"5aa8b8d997365ead67e50e92d71eab23\", element=\"8f2db7e0-171c-4764-a7d3-e77d84b14409\")>,\n",
       " <selenium.webdriver.remote.webelement.WebElement (session=\"5aa8b8d997365ead67e50e92d71eab23\", element=\"b4c4993b-2854-4fdf-a58c-0aaa1ac58b68\")>]"
      ]
     },
     "execution_count": 23,
     "metadata": {},
     "output_type": "execute_result"
    }
   ],
   "source": [
    "results"
   ]
  },
  {
   "cell_type": "code",
   "execution_count": 24,
   "id": "49b997dd",
   "metadata": {},
   "outputs": [],
   "source": [
    "for offer in results:\n",
    "    pass"
   ]
  },
  {
   "cell_type": "code",
   "execution_count": 25,
   "id": "deb19caa",
   "metadata": {},
   "outputs": [
    {
     "data": {
      "text/plain": [
       "\"SCOCCA POSTERIORE nudo iPhone 8 SE2 X XS XSM XR 11 12 13 MINI PROMAX / LOGO + CE\\nLa page s'ouvre dans une nouvelle fenêtre ou un nouvel onglet\\nNeuf | Pro\\n32,00 EUR à 125,99 EUR\\n125,99 EUR par Unità\\n(125,99 EUR/Unità)\\nVendeur Top Fiabilité\\nVendeur Top Fiabilité\\nAchat immédiat\\nVendeur: chassisiphone (692) 99,4%\\nAfficher la Boutique du vendeur : ReflexMag\\nLivraison internationale gratuite\\nde Italie\\nSponsorisé\""
      ]
     },
     "execution_count": 25,
     "metadata": {},
     "output_type": "execute_result"
    }
   ],
   "source": [
    "offer.text"
   ]
  },
  {
   "cell_type": "code",
   "execution_count": 26,
   "id": "b815c6bd",
   "metadata": {},
   "outputs": [],
   "source": [
    "# Get the name of the product\n",
    "title = offer.find_element_by_xpath('.//span[@aria-level=\"3\"]')"
   ]
  },
  {
   "cell_type": "code",
   "execution_count": 27,
   "id": "35f9a7ae",
   "metadata": {},
   "outputs": [
    {
     "name": "stdout",
     "output_type": "stream",
     "text": [
      "Title :  SCOCCA POSTERIORE nudo iPhone 8 SE2 X XS XSM XR 11 12 13 MINI PROMAX / LOGO + CE\n"
     ]
    }
   ],
   "source": [
    "print(\"Title : \",title.text)"
   ]
  },
  {
   "cell_type": "code",
   "execution_count": 28,
   "id": "7b685899",
   "metadata": {},
   "outputs": [
    {
     "name": "stdout",
     "output_type": "stream",
     "text": [
      "Image link :  https://i.ebayimg.com/thumbs/images/g/RZkAAOSw7a9jUACY/s-l225.webp\n"
     ]
    }
   ],
   "source": [
    "# Get the img link\n",
    "image = offer.find_element_by_class_name(\"s-item__image-img\").get_attribute(\"src\")\n",
    "print(\"Image link : \",image)"
   ]
  },
  {
   "cell_type": "code",
   "execution_count": 29,
   "id": "65f8bc69",
   "metadata": {},
   "outputs": [
    {
     "name": "stdout",
     "output_type": "stream",
     "text": [
      "Price:  32,00 EUR à 125,99 EUR\n"
     ]
    }
   ],
   "source": [
    "# Get the price of the product \n",
    "price = offer.find_element_by_class_name(\"s-item__price\").text\n",
    "print(\"Price: \",price)"
   ]
  },
  {
   "cell_type": "code",
   "execution_count": null,
   "id": "dec2ce4e",
   "metadata": {},
   "outputs": [],
   "source": []
  },
  {
   "cell_type": "markdown",
   "id": "58123099",
   "metadata": {},
   "source": [
    "## Interacting with the page"
   ]
  },
  {
   "cell_type": "markdown",
   "id": "e617beff",
   "metadata": {},
   "source": [
    "### Clicking Next Page Using Selenium"
   ]
  },
  {
   "cell_type": "code",
   "execution_count": 30,
   "id": "a769749c",
   "metadata": {},
   "outputs": [],
   "source": [
    "next_page= driver.find_element_by_class_name(\"pagination__next\")"
   ]
  },
  {
   "cell_type": "code",
   "execution_count": null,
   "id": "410812db",
   "metadata": {},
   "outputs": [],
   "source": []
  },
  {
   "cell_type": "code",
   "execution_count": 31,
   "id": "24069dec",
   "metadata": {},
   "outputs": [
    {
     "data": {
      "text/plain": [
       "<selenium.webdriver.remote.webelement.WebElement (session=\"5aa8b8d997365ead67e50e92d71eab23\", element=\"d1c2c234-b7b3-489b-a937-eab590b00618\")>"
      ]
     },
     "execution_count": 31,
     "metadata": {},
     "output_type": "execute_result"
    }
   ],
   "source": [
    "next_page"
   ]
  },
  {
   "cell_type": "code",
   "execution_count": 32,
   "id": "d1cc5858",
   "metadata": {},
   "outputs": [],
   "source": [
    "next_page.click()"
   ]
  },
  {
   "cell_type": "markdown",
   "id": "ac9723bf",
   "metadata": {},
   "source": [
    "### fillin in forms "
   ]
  },
  {
   "cell_type": "markdown",
   "id": "4d0af727",
   "metadata": {},
   "source": [
    "On recupère, grâce au selecteur de Selenium, l’élément qui correspond au champ « recherche ». Pour trouver le bon élément il faut inspecter la page. "
   ]
  },
  {
   "cell_type": "code",
   "execution_count": null,
   "id": "d603eb17",
   "metadata": {},
   "outputs": [],
   "source": [
    "from selenium.webdriver.common.keys import Keys"
   ]
  },
  {
   "cell_type": "code",
   "execution_count": null,
   "id": "be3bfc83",
   "metadata": {},
   "outputs": [],
   "source": [
    "# On recupere la bar de recherche, on la remplit avec \"iphone\" puis on appuie \"Entrez\"\n",
    "search_bar = driver.find_element_by_name(\"_nkw\")\n",
    "search_bar.send_keys(\"Sumsung\")\n",
    "search_bar.send_keys(Keys.ENTER)"
   ]
  },
  {
   "cell_type": "code",
   "execution_count": null,
   "id": "55c9d4cb",
   "metadata": {},
   "outputs": [],
   "source": [
    "driver.quit()"
   ]
  },
  {
   "cell_type": "code",
   "execution_count": null,
   "id": "bc8340dd",
   "metadata": {},
   "outputs": [],
   "source": []
  }
 ],
 "metadata": {
  "kernelspec": {
   "display_name": "Python 3",
   "language": "python",
   "name": "python3"
  },
  "language_info": {
   "codemirror_mode": {
    "name": "ipython",
    "version": 3
   },
   "file_extension": ".py",
   "mimetype": "text/x-python",
   "name": "python",
   "nbconvert_exporter": "python",
   "pygments_lexer": "ipython3",
   "version": "3.9.4"
  }
 },
 "nbformat": 4,
 "nbformat_minor": 5
}
