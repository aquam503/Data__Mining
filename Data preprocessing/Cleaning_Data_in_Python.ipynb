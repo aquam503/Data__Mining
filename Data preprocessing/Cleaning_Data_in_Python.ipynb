{
 "cells": [
  {
   "cell_type": "markdown",
   "metadata": {
    "colab_type": "text",
    "id": "6Ijg5wUCTQYG"
   },
   "source": [
    "\n",
    "## <center>**Cleaning Data in Python **\n",
    "\n",
    "\n",
    "Welcome to this hands-on training where you will learn how to effectively diagnose and treat missing data in Python.\n",
    "\n",
    "The majority of data science work often revolves around pre-processing data, and making sure it's ready for analysis. In this session, we will be covering how transform our raw data into accurate insights. In this notebook, you will learn:\n",
    "\n",
    "* Import data into `pandas`, and use simple functions to diagnose problems in our data.\n",
    "* Visualize missing and out of range data using `missingno` and `seaborn`.\n",
    "* Apply a range of data cleaning tasks that will ensure the delivery of accurate insights.\n",
    "\n",
    "## **The Dataset**\n",
    "\n",
    "The dataset to be used in this example is a CSV file named `airbnb.csv`, which contains data on airbnb listings in the state of New York. It contains the following columns:\n",
    "\n",
    "- `listing_id`: The unique identifier for a listing\n",
    "- `description`: The description used on the listing\n",
    "- `host_id`: Unique identifier for a host\n",
    "- `host_name`: Name of host\n",
    "- `neighbourhood_full`: Name of boroughs and neighbourhoods\n",
    "- `coordinates`: Coordinates of listing _(latitude, longitude)_\n",
    "- `Listing added`: Date of added listing\n",
    "- `room_type`: Type of room \n",
    "- `rating`: Rating from 0 to 5.\n",
    "- `price`: Price per night for listing\n",
    "- `number_of_reviews`: Amount of reviews received \n",
    "- `last_review`: Date of last review\n",
    "- `reviews_per_month`: Number of reviews per month\n",
    "- `availability_365`: Number of days available per year\n",
    "- `Number of stays`: Total number of stays thus far\n"
   ]
  },
  {
   "cell_type": "markdown",
   "metadata": {
    "colab_type": "text",
    "id": "BMYfcKeDY85K"
   },
   "source": [
    "## **Getting started**"
   ]
  },
  {
   "cell_type": "code",
   "execution_count": 1,
   "metadata": {
    "colab": {},
    "colab_type": "code",
    "id": "EMQfyC7GUNhT"
   },
   "outputs": [],
   "source": [
    "# Import libraries\n",
    "#pi install if not already intalled \n",
    "import pandas as pd\n",
    "import matplotlib.pyplot as plt\n",
    "import numpy as np\n",
    "import seaborn as sns #Seaborn is a Python data visualization library based on matplotlib\n",
    "#!pip install missingno\n",
    "import missingno as msno #Missing data visualization module for Python\n",
    "import datetime as dt"
   ]
  },
  {
   "cell_type": "code",
   "execution_count": 2,
   "metadata": {
    "colab": {},
    "colab_type": "code",
    "id": "l8t_EwRNZPLB"
   },
   "outputs": [],
   "source": [
    "# Read in the dataset\n",
    "airbnb = pd.read_csv('airbnb.csv', index_col = 'Unnamed: 0')"
   ]
  },
  {
   "cell_type": "code",
   "execution_count": 3,
   "metadata": {},
   "outputs": [
    {
     "data": {
      "text/html": [
       "<div>\n",
       "<style scoped>\n",
       "    .dataframe tbody tr th:only-of-type {\n",
       "        vertical-align: middle;\n",
       "    }\n",
       "\n",
       "    .dataframe tbody tr th {\n",
       "        vertical-align: top;\n",
       "    }\n",
       "\n",
       "    .dataframe thead th {\n",
       "        text-align: right;\n",
       "    }\n",
       "</style>\n",
       "<table border=\"1\" class=\"dataframe\">\n",
       "  <thead>\n",
       "    <tr style=\"text-align: right;\">\n",
       "      <th></th>\n",
       "      <th>listing_id</th>\n",
       "      <th>name</th>\n",
       "      <th>host_id</th>\n",
       "      <th>host_name</th>\n",
       "      <th>neighbourhood_full</th>\n",
       "      <th>coordinates</th>\n",
       "      <th>room_type</th>\n",
       "      <th>price</th>\n",
       "      <th>number_of_reviews</th>\n",
       "      <th>last_review</th>\n",
       "      <th>reviews_per_month</th>\n",
       "      <th>availability_365</th>\n",
       "      <th>rating</th>\n",
       "      <th>number_of_stays</th>\n",
       "      <th>5_stars</th>\n",
       "      <th>listing_added</th>\n",
       "    </tr>\n",
       "  </thead>\n",
       "  <tbody>\n",
       "    <tr>\n",
       "      <th>0</th>\n",
       "      <td>13740704</td>\n",
       "      <td>Cozy,budget friendly, cable inc, private entra...</td>\n",
       "      <td>20583125</td>\n",
       "      <td>Michel</td>\n",
       "      <td>Brooklyn, Flatlands</td>\n",
       "      <td>(40.63222, -73.93398)</td>\n",
       "      <td>Private room</td>\n",
       "      <td>45$</td>\n",
       "      <td>10</td>\n",
       "      <td>2018-12-12</td>\n",
       "      <td>0.70</td>\n",
       "      <td>85</td>\n",
       "      <td>4.100954</td>\n",
       "      <td>12.0</td>\n",
       "      <td>0.609432</td>\n",
       "      <td>2018-06-08</td>\n",
       "    </tr>\n",
       "    <tr>\n",
       "      <th>1</th>\n",
       "      <td>22005115</td>\n",
       "      <td>Two floor apartment near Central Park</td>\n",
       "      <td>82746113</td>\n",
       "      <td>Cecilia</td>\n",
       "      <td>Manhattan, Upper West Side</td>\n",
       "      <td>(40.78761, -73.96862)</td>\n",
       "      <td>Entire home/apt</td>\n",
       "      <td>135$</td>\n",
       "      <td>1</td>\n",
       "      <td>2019-06-30</td>\n",
       "      <td>1.00</td>\n",
       "      <td>145</td>\n",
       "      <td>3.367600</td>\n",
       "      <td>1.2</td>\n",
       "      <td>0.746135</td>\n",
       "      <td>2018-12-25</td>\n",
       "    </tr>\n",
       "    <tr>\n",
       "      <th>2</th>\n",
       "      <td>21667615</td>\n",
       "      <td>Beautiful 1BR in Brooklyn Heights</td>\n",
       "      <td>78251</td>\n",
       "      <td>Leslie</td>\n",
       "      <td>Brooklyn, Brooklyn Heights</td>\n",
       "      <td>(40.7007, -73.99517)</td>\n",
       "      <td>Entire home/apt</td>\n",
       "      <td>150$</td>\n",
       "      <td>0</td>\n",
       "      <td>NaN</td>\n",
       "      <td>NaN</td>\n",
       "      <td>65</td>\n",
       "      <td>NaN</td>\n",
       "      <td>NaN</td>\n",
       "      <td>NaN</td>\n",
       "      <td>2018-08-15</td>\n",
       "    </tr>\n",
       "    <tr>\n",
       "      <th>3</th>\n",
       "      <td>6425850</td>\n",
       "      <td>Spacious, charming studio</td>\n",
       "      <td>32715865</td>\n",
       "      <td>Yelena</td>\n",
       "      <td>Manhattan, Upper West Side</td>\n",
       "      <td>(40.79169, -73.97498)</td>\n",
       "      <td>Entire home/apt</td>\n",
       "      <td>86$</td>\n",
       "      <td>5</td>\n",
       "      <td>2017-09-23</td>\n",
       "      <td>0.13</td>\n",
       "      <td>0</td>\n",
       "      <td>4.763203</td>\n",
       "      <td>6.0</td>\n",
       "      <td>0.769947</td>\n",
       "      <td>2017-03-20</td>\n",
       "    </tr>\n",
       "    <tr>\n",
       "      <th>4</th>\n",
       "      <td>22986519</td>\n",
       "      <td>Bedroom on the lively Lower East Side</td>\n",
       "      <td>154262349</td>\n",
       "      <td>Brooke</td>\n",
       "      <td>Manhattan, Lower East Side</td>\n",
       "      <td>(40.71884, -73.98354)</td>\n",
       "      <td>Private room</td>\n",
       "      <td>160$</td>\n",
       "      <td>23</td>\n",
       "      <td>2019-06-12</td>\n",
       "      <td>2.29</td>\n",
       "      <td>102</td>\n",
       "      <td>3.822591</td>\n",
       "      <td>27.6</td>\n",
       "      <td>0.649383</td>\n",
       "      <td>2020-10-23</td>\n",
       "    </tr>\n",
       "    <tr>\n",
       "      <th>...</th>\n",
       "      <td>...</td>\n",
       "      <td>...</td>\n",
       "      <td>...</td>\n",
       "      <td>...</td>\n",
       "      <td>...</td>\n",
       "      <td>...</td>\n",
       "      <td>...</td>\n",
       "      <td>...</td>\n",
       "      <td>...</td>\n",
       "      <td>...</td>\n",
       "      <td>...</td>\n",
       "      <td>...</td>\n",
       "      <td>...</td>\n",
       "      <td>...</td>\n",
       "      <td>...</td>\n",
       "      <td>...</td>\n",
       "    </tr>\n",
       "    <tr>\n",
       "      <th>10014</th>\n",
       "      <td>22307861</td>\n",
       "      <td>Lovely 1BR Harlem apartment</td>\n",
       "      <td>16004068</td>\n",
       "      <td>Rachel</td>\n",
       "      <td>Manhattan, Harlem</td>\n",
       "      <td>(40.80379, -73.95257)</td>\n",
       "      <td>Entire home/apt</td>\n",
       "      <td>105$</td>\n",
       "      <td>4</td>\n",
       "      <td>2018-05-28</td>\n",
       "      <td>0.21</td>\n",
       "      <td>0</td>\n",
       "      <td>4.757555</td>\n",
       "      <td>4.8</td>\n",
       "      <td>0.639223</td>\n",
       "      <td>2017-11-22</td>\n",
       "    </tr>\n",
       "    <tr>\n",
       "      <th>10015</th>\n",
       "      <td>953275</td>\n",
       "      <td>Apartment For Your Holidays in NYC!</td>\n",
       "      <td>4460034</td>\n",
       "      <td>Alain</td>\n",
       "      <td>Manhattan, East Harlem</td>\n",
       "      <td>(40.79531, -73.9333)</td>\n",
       "      <td>Entire home/apt</td>\n",
       "      <td>125$</td>\n",
       "      <td>50</td>\n",
       "      <td>2018-05-06</td>\n",
       "      <td>0.66</td>\n",
       "      <td>188</td>\n",
       "      <td>4.344704</td>\n",
       "      <td>60.0</td>\n",
       "      <td>0.648778</td>\n",
       "      <td>2017-10-31</td>\n",
       "    </tr>\n",
       "    <tr>\n",
       "      <th>10016</th>\n",
       "      <td>3452835</td>\n",
       "      <td>Artsy, Garden Getaway in Central Brooklyn</td>\n",
       "      <td>666862</td>\n",
       "      <td>Amy</td>\n",
       "      <td>Brooklyn, Clinton Hill</td>\n",
       "      <td>(40.68266, -73.96743000000002)</td>\n",
       "      <td>Entire home/apt</td>\n",
       "      <td>100$</td>\n",
       "      <td>45</td>\n",
       "      <td>2016-11-27</td>\n",
       "      <td>0.98</td>\n",
       "      <td>0</td>\n",
       "      <td>3.966214</td>\n",
       "      <td>54.0</td>\n",
       "      <td>0.631713</td>\n",
       "      <td>2016-05-24</td>\n",
       "    </tr>\n",
       "    <tr>\n",
       "      <th>10017</th>\n",
       "      <td>23540194</td>\n",
       "      <td>Immaculate townhouse in Clinton Hill, Brooklyn</td>\n",
       "      <td>67176930</td>\n",
       "      <td>Sophie</td>\n",
       "      <td>Brooklyn, Clinton Hill</td>\n",
       "      <td>(40.68832, -73.96366)</td>\n",
       "      <td>Entire home/apt</td>\n",
       "      <td>450$</td>\n",
       "      <td>2</td>\n",
       "      <td>2019-05-31</td>\n",
       "      <td>0.17</td>\n",
       "      <td>99</td>\n",
       "      <td>4.078581</td>\n",
       "      <td>2.4</td>\n",
       "      <td>0.703360</td>\n",
       "      <td>2018-11-25</td>\n",
       "    </tr>\n",
       "    <tr>\n",
       "      <th>10018</th>\n",
       "      <td>32876011</td>\n",
       "      <td>Private room in a perfect location in the city</td>\n",
       "      <td>59583716</td>\n",
       "      <td>Shai</td>\n",
       "      <td>Manhattan, Upper East Side</td>\n",
       "      <td>(40.76174, -73.96625)</td>\n",
       "      <td>Private room</td>\n",
       "      <td>90$</td>\n",
       "      <td>1</td>\n",
       "      <td>2019-03-12</td>\n",
       "      <td>0.25</td>\n",
       "      <td>8</td>\n",
       "      <td>4.069096</td>\n",
       "      <td>1.2</td>\n",
       "      <td>0.720249</td>\n",
       "      <td>2018-09-06</td>\n",
       "    </tr>\n",
       "  </tbody>\n",
       "</table>\n",
       "<p>10019 rows × 16 columns</p>\n",
       "</div>"
      ],
      "text/plain": [
       "       listing_id                                               name  \\\n",
       "0        13740704  Cozy,budget friendly, cable inc, private entra...   \n",
       "1        22005115              Two floor apartment near Central Park   \n",
       "2        21667615                  Beautiful 1BR in Brooklyn Heights   \n",
       "3         6425850                          Spacious, charming studio   \n",
       "4        22986519              Bedroom on the lively Lower East Side   \n",
       "...           ...                                                ...   \n",
       "10014    22307861                        Lovely 1BR Harlem apartment   \n",
       "10015      953275                Apartment For Your Holidays in NYC!   \n",
       "10016     3452835          Artsy, Garden Getaway in Central Brooklyn   \n",
       "10017    23540194     Immaculate townhouse in Clinton Hill, Brooklyn   \n",
       "10018    32876011     Private room in a perfect location in the city   \n",
       "\n",
       "         host_id host_name          neighbourhood_full  \\\n",
       "0       20583125    Michel         Brooklyn, Flatlands   \n",
       "1       82746113   Cecilia  Manhattan, Upper West Side   \n",
       "2          78251    Leslie  Brooklyn, Brooklyn Heights   \n",
       "3       32715865    Yelena  Manhattan, Upper West Side   \n",
       "4      154262349    Brooke  Manhattan, Lower East Side   \n",
       "...          ...       ...                         ...   \n",
       "10014   16004068    Rachel           Manhattan, Harlem   \n",
       "10015    4460034     Alain      Manhattan, East Harlem   \n",
       "10016     666862       Amy      Brooklyn, Clinton Hill   \n",
       "10017   67176930    Sophie      Brooklyn, Clinton Hill   \n",
       "10018   59583716      Shai  Manhattan, Upper East Side   \n",
       "\n",
       "                          coordinates        room_type price  \\\n",
       "0               (40.63222, -73.93398)     Private room   45$   \n",
       "1               (40.78761, -73.96862)  Entire home/apt  135$   \n",
       "2                (40.7007, -73.99517)  Entire home/apt  150$   \n",
       "3               (40.79169, -73.97498)  Entire home/apt   86$   \n",
       "4               (40.71884, -73.98354)     Private room  160$   \n",
       "...                               ...              ...   ...   \n",
       "10014           (40.80379, -73.95257)  Entire home/apt  105$   \n",
       "10015            (40.79531, -73.9333)  Entire home/apt  125$   \n",
       "10016  (40.68266, -73.96743000000002)  Entire home/apt  100$   \n",
       "10017           (40.68832, -73.96366)  Entire home/apt  450$   \n",
       "10018           (40.76174, -73.96625)     Private room   90$   \n",
       "\n",
       "       number_of_reviews last_review  reviews_per_month  availability_365  \\\n",
       "0                     10  2018-12-12               0.70                85   \n",
       "1                      1  2019-06-30               1.00               145   \n",
       "2                      0         NaN                NaN                65   \n",
       "3                      5  2017-09-23               0.13                 0   \n",
       "4                     23  2019-06-12               2.29               102   \n",
       "...                  ...         ...                ...               ...   \n",
       "10014                  4  2018-05-28               0.21                 0   \n",
       "10015                 50  2018-05-06               0.66               188   \n",
       "10016                 45  2016-11-27               0.98                 0   \n",
       "10017                  2  2019-05-31               0.17                99   \n",
       "10018                  1  2019-03-12               0.25                 8   \n",
       "\n",
       "         rating  number_of_stays   5_stars listing_added  \n",
       "0      4.100954             12.0  0.609432    2018-06-08  \n",
       "1      3.367600              1.2  0.746135    2018-12-25  \n",
       "2           NaN              NaN       NaN    2018-08-15  \n",
       "3      4.763203              6.0  0.769947    2017-03-20  \n",
       "4      3.822591             27.6  0.649383    2020-10-23  \n",
       "...         ...              ...       ...           ...  \n",
       "10014  4.757555              4.8  0.639223    2017-11-22  \n",
       "10015  4.344704             60.0  0.648778    2017-10-31  \n",
       "10016  3.966214             54.0  0.631713    2016-05-24  \n",
       "10017  4.078581              2.4  0.703360    2018-11-25  \n",
       "10018  4.069096              1.2  0.720249    2018-09-06  \n",
       "\n",
       "[10019 rows x 16 columns]"
      ]
     },
     "execution_count": 3,
     "metadata": {},
     "output_type": "execute_result"
    }
   ],
   "source": [
    "airbnb"
   ]
  },
  {
   "cell_type": "markdown",
   "metadata": {
    "colab_type": "text",
    "id": "1ui1uvtyZwfQ"
   },
   "source": [
    "## **Diagnosing data cleaning problems using simple `pandas` ** "
   ]
  },
  {
   "cell_type": "markdown",
   "metadata": {
    "colab_type": "text",
    "id": "t3fgtos4Z6Xa"
   },
   "source": [
    "Some important and common methods needed to get a better understanding of DataFrames and diagnose potential data problems are the following: \n",
    "\n",
    "- `.head()` prints the header of a DataFrame\n",
    "- `.dtypes` prints datatypes of all columns in a DataFrame\n",
    "- `.info()` provides a bird's eye view of column data types and missing values in a DataFrame\n",
    "- `.describe()` returns a distribution of numeric columns in your DataFrame\n",
    "- `.isna().sum()` allows us to break down the number of missing values per column in our DataFrame\n",
    "- `.unique()` finds the number of unique values in a DataFrame column\n",
    "\n",
    "<br>\n",
    "\n",
    "- `sns.displot()` plots the distribution of one column in your DataFrame."
   ]
  },
  {
   "cell_type": "code",
   "execution_count": 4,
   "metadata": {
    "colab": {
     "base_uri": "https://localhost:8080/",
     "height": 479
    },
    "colab_type": "code",
    "id": "x3w1WbkFZ-ig",
    "outputId": "8d787613-af2c-4618-e4d9-06442585e477"
   },
   "outputs": [
    {
     "data": {
      "text/html": [
       "<div>\n",
       "<style scoped>\n",
       "    .dataframe tbody tr th:only-of-type {\n",
       "        vertical-align: middle;\n",
       "    }\n",
       "\n",
       "    .dataframe tbody tr th {\n",
       "        vertical-align: top;\n",
       "    }\n",
       "\n",
       "    .dataframe thead th {\n",
       "        text-align: right;\n",
       "    }\n",
       "</style>\n",
       "<table border=\"1\" class=\"dataframe\">\n",
       "  <thead>\n",
       "    <tr style=\"text-align: right;\">\n",
       "      <th></th>\n",
       "      <th>listing_id</th>\n",
       "      <th>name</th>\n",
       "      <th>host_id</th>\n",
       "      <th>host_name</th>\n",
       "      <th>neighbourhood_full</th>\n",
       "      <th>coordinates</th>\n",
       "      <th>room_type</th>\n",
       "      <th>price</th>\n",
       "      <th>number_of_reviews</th>\n",
       "      <th>last_review</th>\n",
       "      <th>reviews_per_month</th>\n",
       "      <th>availability_365</th>\n",
       "      <th>rating</th>\n",
       "      <th>number_of_stays</th>\n",
       "      <th>5_stars</th>\n",
       "      <th>listing_added</th>\n",
       "    </tr>\n",
       "  </thead>\n",
       "  <tbody>\n",
       "    <tr>\n",
       "      <th>0</th>\n",
       "      <td>13740704</td>\n",
       "      <td>Cozy,budget friendly, cable inc, private entra...</td>\n",
       "      <td>20583125</td>\n",
       "      <td>Michel</td>\n",
       "      <td>Brooklyn, Flatlands</td>\n",
       "      <td>(40.63222, -73.93398)</td>\n",
       "      <td>Private room</td>\n",
       "      <td>45$</td>\n",
       "      <td>10</td>\n",
       "      <td>2018-12-12</td>\n",
       "      <td>0.70</td>\n",
       "      <td>85</td>\n",
       "      <td>4.100954</td>\n",
       "      <td>12.0</td>\n",
       "      <td>0.609432</td>\n",
       "      <td>2018-06-08</td>\n",
       "    </tr>\n",
       "    <tr>\n",
       "      <th>1</th>\n",
       "      <td>22005115</td>\n",
       "      <td>Two floor apartment near Central Park</td>\n",
       "      <td>82746113</td>\n",
       "      <td>Cecilia</td>\n",
       "      <td>Manhattan, Upper West Side</td>\n",
       "      <td>(40.78761, -73.96862)</td>\n",
       "      <td>Entire home/apt</td>\n",
       "      <td>135$</td>\n",
       "      <td>1</td>\n",
       "      <td>2019-06-30</td>\n",
       "      <td>1.00</td>\n",
       "      <td>145</td>\n",
       "      <td>3.367600</td>\n",
       "      <td>1.2</td>\n",
       "      <td>0.746135</td>\n",
       "      <td>2018-12-25</td>\n",
       "    </tr>\n",
       "    <tr>\n",
       "      <th>2</th>\n",
       "      <td>21667615</td>\n",
       "      <td>Beautiful 1BR in Brooklyn Heights</td>\n",
       "      <td>78251</td>\n",
       "      <td>Leslie</td>\n",
       "      <td>Brooklyn, Brooklyn Heights</td>\n",
       "      <td>(40.7007, -73.99517)</td>\n",
       "      <td>Entire home/apt</td>\n",
       "      <td>150$</td>\n",
       "      <td>0</td>\n",
       "      <td>NaN</td>\n",
       "      <td>NaN</td>\n",
       "      <td>65</td>\n",
       "      <td>NaN</td>\n",
       "      <td>NaN</td>\n",
       "      <td>NaN</td>\n",
       "      <td>2018-08-15</td>\n",
       "    </tr>\n",
       "    <tr>\n",
       "      <th>3</th>\n",
       "      <td>6425850</td>\n",
       "      <td>Spacious, charming studio</td>\n",
       "      <td>32715865</td>\n",
       "      <td>Yelena</td>\n",
       "      <td>Manhattan, Upper West Side</td>\n",
       "      <td>(40.79169, -73.97498)</td>\n",
       "      <td>Entire home/apt</td>\n",
       "      <td>86$</td>\n",
       "      <td>5</td>\n",
       "      <td>2017-09-23</td>\n",
       "      <td>0.13</td>\n",
       "      <td>0</td>\n",
       "      <td>4.763203</td>\n",
       "      <td>6.0</td>\n",
       "      <td>0.769947</td>\n",
       "      <td>2017-03-20</td>\n",
       "    </tr>\n",
       "    <tr>\n",
       "      <th>4</th>\n",
       "      <td>22986519</td>\n",
       "      <td>Bedroom on the lively Lower East Side</td>\n",
       "      <td>154262349</td>\n",
       "      <td>Brooke</td>\n",
       "      <td>Manhattan, Lower East Side</td>\n",
       "      <td>(40.71884, -73.98354)</td>\n",
       "      <td>Private room</td>\n",
       "      <td>160$</td>\n",
       "      <td>23</td>\n",
       "      <td>2019-06-12</td>\n",
       "      <td>2.29</td>\n",
       "      <td>102</td>\n",
       "      <td>3.822591</td>\n",
       "      <td>27.6</td>\n",
       "      <td>0.649383</td>\n",
       "      <td>2020-10-23</td>\n",
       "    </tr>\n",
       "  </tbody>\n",
       "</table>\n",
       "</div>"
      ],
      "text/plain": [
       "   listing_id                                               name    host_id  \\\n",
       "0    13740704  Cozy,budget friendly, cable inc, private entra...   20583125   \n",
       "1    22005115              Two floor apartment near Central Park   82746113   \n",
       "2    21667615                  Beautiful 1BR in Brooklyn Heights      78251   \n",
       "3     6425850                          Spacious, charming studio   32715865   \n",
       "4    22986519              Bedroom on the lively Lower East Side  154262349   \n",
       "\n",
       "  host_name          neighbourhood_full            coordinates  \\\n",
       "0    Michel         Brooklyn, Flatlands  (40.63222, -73.93398)   \n",
       "1   Cecilia  Manhattan, Upper West Side  (40.78761, -73.96862)   \n",
       "2    Leslie  Brooklyn, Brooklyn Heights   (40.7007, -73.99517)   \n",
       "3    Yelena  Manhattan, Upper West Side  (40.79169, -73.97498)   \n",
       "4    Brooke  Manhattan, Lower East Side  (40.71884, -73.98354)   \n",
       "\n",
       "         room_type price  number_of_reviews last_review  reviews_per_month  \\\n",
       "0     Private room   45$                 10  2018-12-12               0.70   \n",
       "1  Entire home/apt  135$                  1  2019-06-30               1.00   \n",
       "2  Entire home/apt  150$                  0         NaN                NaN   \n",
       "3  Entire home/apt   86$                  5  2017-09-23               0.13   \n",
       "4     Private room  160$                 23  2019-06-12               2.29   \n",
       "\n",
       "   availability_365    rating  number_of_stays   5_stars listing_added  \n",
       "0                85  4.100954             12.0  0.609432    2018-06-08  \n",
       "1               145  3.367600              1.2  0.746135    2018-12-25  \n",
       "2                65       NaN              NaN       NaN    2018-08-15  \n",
       "3                 0  4.763203              6.0  0.769947    2017-03-20  \n",
       "4               102  3.822591             27.6  0.649383    2020-10-23  "
      ]
     },
     "execution_count": 4,
     "metadata": {},
     "output_type": "execute_result"
    }
   ],
   "source": [
    "# Print the header of the DataFrame\n",
    "airbnb.head()"
   ]
  },
  {
   "cell_type": "markdown",
   "metadata": {
    "colab_type": "text",
    "id": "kdp2jmQDal5L"
   },
   "source": [
    "By merely looking at the data, we can already diagnose a range of potential problems down the line such as:\n",
    "\n",
    "<br>\n",
    "\n",
    "_Data type problems:_\n",
    "\n",
    "- **Problem 1**: We can see that the `coordinates` column is probably a string (`str`) - most mapping functions require a latitude input, and longitude input, so it's best to split this column into two and convert the values to `float`.\n",
    "- **Problem 2**: Similar to `coordinates` - the `price` column also is a string with `$` attached to each price point, we need to convert that to `float` if we want a good understanding of the dataset. \n",
    "- **Problem 3**: We need to make sure date columns (`last_review` and `listing_added`) are in `datetime` to allow easier manipulation of data data.\n",
    "\n",
    "<br>\n",
    "\n",
    "_Missing data problems:_\n",
    "\n",
    "- **Problem 4**: We can see that there are missing data in some columns, we'll get a better bird's eye view of that down the line.\n",
    "\n",
    "<br>\n",
    "\n",
    "_Text/categorical data problems:_\n",
    "\n",
    "\n",
    "- **Problem 5**: To be able to visualize number of listings by boroughs - we need to separate neighborhoud name from borough name in `neighbourhood_full` column.\n",
    "- **Problem 6**: Looking at `room_type`, let's replace those values to make them `'Shared Room'`, `'Private Home/Apartment'`, `'Private Room'` and `'Hotel Room'`."
   ]
  },
  {
   "cell_type": "code",
   "execution_count": 5,
   "metadata": {
    "colab": {
     "base_uri": "https://localhost:8080/",
     "height": 306
    },
    "colab_type": "code",
    "id": "SiWS3EiPakp2",
    "outputId": "37e86405-5adf-488b-e175-036a2073cb19"
   },
   "outputs": [
    {
     "data": {
      "text/plain": [
       "listing_id              int64\n",
       "name                   object\n",
       "host_id                 int64\n",
       "host_name              object\n",
       "neighbourhood_full     object\n",
       "coordinates            object\n",
       "room_type              object\n",
       "price                  object\n",
       "number_of_reviews       int64\n",
       "last_review            object\n",
       "reviews_per_month     float64\n",
       "availability_365        int64\n",
       "rating                float64\n",
       "number_of_stays       float64\n",
       "5_stars               float64\n",
       "listing_added          object\n",
       "dtype: object"
      ]
     },
     "execution_count": 5,
     "metadata": {},
     "output_type": "execute_result"
    }
   ],
   "source": [
    "# Print data types of DataFrame\n",
    "airbnb.dtypes"
   ]
  },
  {
   "cell_type": "markdown",
   "metadata": {
    "colab_type": "text",
    "id": "Sjn8XH8IiO5q"
   },
   "source": [
    "Printing the data types confirms that `coordinates` and `price` need to be converted to `float`, and date columns need to be converted to `datetime` _(**problems 1,2 3)**_"
   ]
  },
  {
   "cell_type": "code",
   "execution_count": 6,
   "metadata": {
    "colab": {
     "base_uri": "https://localhost:8080/",
     "height": 408
    },
    "colab_type": "code",
    "id": "KoT5LMdSiW1H",
    "outputId": "e9b0d55b-8b0b-423a-8e10-a1f76def2f8f"
   },
   "outputs": [
    {
     "name": "stdout",
     "output_type": "stream",
     "text": [
      "<class 'pandas.core.frame.DataFrame'>\n",
      "Int64Index: 10019 entries, 0 to 10018\n",
      "Data columns (total 16 columns):\n",
      " #   Column              Non-Null Count  Dtype  \n",
      "---  ------              --------------  -----  \n",
      " 0   listing_id          10019 non-null  int64  \n",
      " 1   name                10014 non-null  object \n",
      " 2   host_id             10019 non-null  int64  \n",
      " 3   host_name           10017 non-null  object \n",
      " 4   neighbourhood_full  10019 non-null  object \n",
      " 5   coordinates         10019 non-null  object \n",
      " 6   room_type           10019 non-null  object \n",
      " 7   price               9781 non-null   object \n",
      " 8   number_of_reviews   10019 non-null  int64  \n",
      " 9   last_review         7944 non-null   object \n",
      " 10  reviews_per_month   7944 non-null   float64\n",
      " 11  availability_365    10019 non-null  int64  \n",
      " 12  rating              7944 non-null   float64\n",
      " 13  number_of_stays     7944 non-null   float64\n",
      " 14  5_stars             7944 non-null   float64\n",
      " 15  listing_added       10019 non-null  object \n",
      "dtypes: float64(4), int64(4), object(8)\n",
      "memory usage: 1.3+ MB\n"
     ]
    }
   ],
   "source": [
    "# Print info of DataFrame\n",
    "airbnb.info()"
   ]
  },
  {
   "cell_type": "markdown",
   "metadata": {
    "colab_type": "text",
    "id": "HjJ3UoLJey41"
   },
   "source": [
    "Printing the info confirms our hunch about the following:\n",
    "\n",
    "- There is missing data in the `price`, `last_review`, `reviews_per_month`, `rating`, `number_of_stays`, `5_stars` columns. It also seems that the missingness of `last_review`, `reviews_per_month`, `rating`, `number_of_stays`, `5_stars` are related since they have the same amount of missing data. We will confirm later with `missingno` _(**problem 4**)_."
   ]
  },
  {
   "cell_type": "code",
   "execution_count": 7,
   "metadata": {
    "colab": {
     "base_uri": "https://localhost:8080/",
     "height": 306
    },
    "colab_type": "code",
    "id": "dvsinK9zexdv",
    "outputId": "f260a9c3-562a-4935-b5e0-79d74c4c3002"
   },
   "outputs": [
    {
     "data": {
      "text/plain": [
       "listing_id               0\n",
       "name                     5\n",
       "host_id                  0\n",
       "host_name                2\n",
       "neighbourhood_full       0\n",
       "coordinates              0\n",
       "room_type                0\n",
       "price                  238\n",
       "number_of_reviews        0\n",
       "last_review           2075\n",
       "reviews_per_month     2075\n",
       "availability_365         0\n",
       "rating                2075\n",
       "number_of_stays       2075\n",
       "5_stars               2075\n",
       "listing_added            0\n",
       "dtype: int64"
      ]
     },
     "execution_count": 7,
     "metadata": {},
     "output_type": "execute_result"
    }
   ],
   "source": [
    "# Print number of missing values\n",
    "airbnb.isna().sum()"
   ]
  },
  {
   "cell_type": "markdown",
   "metadata": {
    "colab_type": "text",
    "id": "BLtjk34CgDdF"
   },
   "source": [
    "There are a variety of ways of dealing with missing data that is dependent on type of missingness, as well as the business assumptions behind our data - our options could be:\n",
    "\n",
    "- Dropping missing data (if the data dropped does not impact or skew our data)\n",
    "- Setting to missing and impute with statistical measures (median, mean, mode ...)\n",
    "- Impute based on business assumptions of our data"
   ]
  },
  {
   "cell_type": "code",
   "execution_count": 8,
   "metadata": {
    "colab": {
     "base_uri": "https://localhost:8080/",
     "height": 297
    },
    "colab_type": "code",
    "id": "ydyKeLnKgAHq",
    "outputId": "b5211fb0-1ce2-4cde-a9f5-7e3cb6e07911"
   },
   "outputs": [
    {
     "data": {
      "text/html": [
       "<div>\n",
       "<style scoped>\n",
       "    .dataframe tbody tr th:only-of-type {\n",
       "        vertical-align: middle;\n",
       "    }\n",
       "\n",
       "    .dataframe tbody tr th {\n",
       "        vertical-align: top;\n",
       "    }\n",
       "\n",
       "    .dataframe thead th {\n",
       "        text-align: right;\n",
       "    }\n",
       "</style>\n",
       "<table border=\"1\" class=\"dataframe\">\n",
       "  <thead>\n",
       "    <tr style=\"text-align: right;\">\n",
       "      <th></th>\n",
       "      <th>listing_id</th>\n",
       "      <th>host_id</th>\n",
       "      <th>number_of_reviews</th>\n",
       "      <th>reviews_per_month</th>\n",
       "      <th>availability_365</th>\n",
       "      <th>rating</th>\n",
       "      <th>number_of_stays</th>\n",
       "      <th>5_stars</th>\n",
       "    </tr>\n",
       "  </thead>\n",
       "  <tbody>\n",
       "    <tr>\n",
       "      <th>count</th>\n",
       "      <td>1.001900e+04</td>\n",
       "      <td>1.001900e+04</td>\n",
       "      <td>10019.000000</td>\n",
       "      <td>7944.000000</td>\n",
       "      <td>10019.000000</td>\n",
       "      <td>7944.000000</td>\n",
       "      <td>7944.000000</td>\n",
       "      <td>7944.000000</td>\n",
       "    </tr>\n",
       "    <tr>\n",
       "      <th>mean</th>\n",
       "      <td>1.927634e+07</td>\n",
       "      <td>6.795923e+07</td>\n",
       "      <td>22.459727</td>\n",
       "      <td>1.353894</td>\n",
       "      <td>112.284260</td>\n",
       "      <td>4.014458</td>\n",
       "      <td>33.991541</td>\n",
       "      <td>0.718599</td>\n",
       "    </tr>\n",
       "    <tr>\n",
       "      <th>std</th>\n",
       "      <td>1.095056e+07</td>\n",
       "      <td>7.863106e+07</td>\n",
       "      <td>43.173896</td>\n",
       "      <td>1.615380</td>\n",
       "      <td>131.636043</td>\n",
       "      <td>0.575064</td>\n",
       "      <td>56.089279</td>\n",
       "      <td>0.079978</td>\n",
       "    </tr>\n",
       "    <tr>\n",
       "      <th>min</th>\n",
       "      <td>3.831000e+03</td>\n",
       "      <td>2.787000e+03</td>\n",
       "      <td>0.000000</td>\n",
       "      <td>0.010000</td>\n",
       "      <td>0.000000</td>\n",
       "      <td>3.000633</td>\n",
       "      <td>1.200000</td>\n",
       "      <td>0.600026</td>\n",
       "    </tr>\n",
       "    <tr>\n",
       "      <th>25%</th>\n",
       "      <td>9.674772e+06</td>\n",
       "      <td>7.910880e+06</td>\n",
       "      <td>1.000000</td>\n",
       "      <td>0.200000</td>\n",
       "      <td>0.000000</td>\n",
       "      <td>3.520443</td>\n",
       "      <td>3.600000</td>\n",
       "      <td>0.655576</td>\n",
       "    </tr>\n",
       "    <tr>\n",
       "      <th>50%</th>\n",
       "      <td>2.007030e+07</td>\n",
       "      <td>3.165167e+07</td>\n",
       "      <td>5.000000</td>\n",
       "      <td>0.710000</td>\n",
       "      <td>44.000000</td>\n",
       "      <td>4.027965</td>\n",
       "      <td>10.800000</td>\n",
       "      <td>0.709768</td>\n",
       "    </tr>\n",
       "    <tr>\n",
       "      <th>75%</th>\n",
       "      <td>2.933864e+07</td>\n",
       "      <td>1.074344e+08</td>\n",
       "      <td>22.000000</td>\n",
       "      <td>2.000000</td>\n",
       "      <td>226.000000</td>\n",
       "      <td>4.516378</td>\n",
       "      <td>38.400000</td>\n",
       "      <td>0.763978</td>\n",
       "    </tr>\n",
       "    <tr>\n",
       "      <th>max</th>\n",
       "      <td>3.648724e+07</td>\n",
       "      <td>2.741034e+08</td>\n",
       "      <td>510.000000</td>\n",
       "      <td>16.220000</td>\n",
       "      <td>365.000000</td>\n",
       "      <td>5.181114</td>\n",
       "      <td>612.000000</td>\n",
       "      <td>0.950339</td>\n",
       "    </tr>\n",
       "  </tbody>\n",
       "</table>\n",
       "</div>"
      ],
      "text/plain": [
       "         listing_id       host_id  number_of_reviews  reviews_per_month  \\\n",
       "count  1.001900e+04  1.001900e+04       10019.000000        7944.000000   \n",
       "mean   1.927634e+07  6.795923e+07          22.459727           1.353894   \n",
       "std    1.095056e+07  7.863106e+07          43.173896           1.615380   \n",
       "min    3.831000e+03  2.787000e+03           0.000000           0.010000   \n",
       "25%    9.674772e+06  7.910880e+06           1.000000           0.200000   \n",
       "50%    2.007030e+07  3.165167e+07           5.000000           0.710000   \n",
       "75%    2.933864e+07  1.074344e+08          22.000000           2.000000   \n",
       "max    3.648724e+07  2.741034e+08         510.000000          16.220000   \n",
       "\n",
       "       availability_365       rating  number_of_stays      5_stars  \n",
       "count      10019.000000  7944.000000      7944.000000  7944.000000  \n",
       "mean         112.284260     4.014458        33.991541     0.718599  \n",
       "std          131.636043     0.575064        56.089279     0.079978  \n",
       "min            0.000000     3.000633         1.200000     0.600026  \n",
       "25%            0.000000     3.520443         3.600000     0.655576  \n",
       "50%           44.000000     4.027965        10.800000     0.709768  \n",
       "75%          226.000000     4.516378        38.400000     0.763978  \n",
       "max          365.000000     5.181114       612.000000     0.950339  "
      ]
     },
     "execution_count": 8,
     "metadata": {},
     "output_type": "execute_result"
    }
   ],
   "source": [
    "# Print description of DataFrame\n",
    "airbnb.describe()"
   ]
  },
  {
   "cell_type": "markdown",
   "metadata": {
    "colab_type": "text",
    "id": "1aPYQW_7glnK"
   },
   "source": [
    "\n",
    "- **Problem 7:** Looking at the maximum of the `rating` column - we see that it is out of range of `5` which is the maximum rating possible. We need to make sure we fix the range this column.\n",
    "\n",
    "It's worth noting that `.describe()` does not offer a bird's eye view of all the out of range data we have, for example, what if we have date data in the future? Or given our dataset, `listing_added` dates that are in the future of `last_review` dates? "
   ]
  },
  {
   "cell_type": "code",
   "execution_count": 9,
   "metadata": {
    "colab": {
     "base_uri": "https://localhost:8080/",
     "height": 295
    },
    "colab_type": "code",
    "id": "VVJat5xZjJLX",
    "outputId": "7685d388-00bf-44aa-c928-c12c0d8ea53c"
   },
   "outputs": [
    {
     "name": "stderr",
     "output_type": "stream",
     "text": [
      "c:\\users\\inpt\\appdata\\local\\programs\\python\\python39\\lib\\site-packages\\seaborn\\distributions.py:2557: FutureWarning: `distplot` is a deprecated function and will be removed in a future version. Please adapt your code to use either `displot` (a figure-level function with similar flexibility) or `histplot` (an axes-level function for histograms).\n",
      "  warnings.warn(msg, FutureWarning)\n"
     ]
    },
    {
     "data": {
      "image/png": "[encoded data removed]",
      "text/plain": [
       "<Figure size 432x288 with 1 Axes>"
      ]
     },
     "metadata": {
      "needs_background": "light"
     },
     "output_type": "display_data"
    }
   ],
   "source": [
    "# Visualize the distribution of the rating column\n",
    "sns.distplot(airbnb['rating'], bins = 20)\n",
    "plt.title('Distribution of listing ratings')\n",
    "plt.show()"
   ]
  },
  {
   "cell_type": "code",
   "execution_count": 10,
   "metadata": {
    "colab": {
     "base_uri": "https://localhost:8080/",
     "height": 51
    },
    "colab_type": "code",
    "id": "mvJGrqxRjihF",
    "outputId": "32d8a75f-4b2d-4a3f-fae2-e1ed7e1eac8f"
   },
   "outputs": [
    {
     "data": {
      "text/plain": [
       "array(['Private room', 'Entire home/apt', 'Private', 'Shared room',\n",
       "       'PRIVATE ROOM', 'home', '   Shared room      '], dtype=object)"
      ]
     },
     "execution_count": 10,
     "metadata": {},
     "output_type": "execute_result"
    }
   ],
   "source": [
    "# Find number of unique values in room_type column\n",
    "airbnb['room_type'].unique()"
   ]
  },
  {
   "cell_type": "markdown",
   "metadata": {
    "colab_type": "text",
    "id": "Zo61ZW9Vk9CC"
   },
   "source": [
    "- **Problem 8**: There are trailing spaces and capitalization issues with `room_type`, we need to fix this problem."
   ]
  },
  {
   "cell_type": "code",
   "execution_count": 11,
   "metadata": {
    "colab": {
     "base_uri": "https://localhost:8080/",
     "height": 153
    },
    "colab_type": "code",
    "id": "tZ0SBerlm2hS",
    "outputId": "ff9af494-19c6-4628-8800-501312af9e4b"
   },
   "outputs": [
    {
     "data": {
      "text/plain": [
       "Entire home/apt         5120\n",
       "Private room            4487\n",
       "Shared room              155\n",
       "Private                   89\n",
       "   Shared room            71\n",
       "home                      66\n",
       "PRIVATE ROOM              31\n",
       "Name: room_type, dtype: int64"
      ]
     },
     "execution_count": 11,
     "metadata": {},
     "output_type": "execute_result"
    }
   ],
   "source": [
    "# How many values of different room_types do we have?\n",
    "airbnb['room_type'].value_counts()"
   ]
  },
  {
   "cell_type": "markdown",
   "metadata": {
    "colab_type": "text",
    "id": "WqwmfLp9lKjU"
   },
   "source": [
    "## **Our to do list:**\n",
    "\n",
    "_Data type problems:_\n",
    "\n",
    "- **Task 1**: Split `coordinates` into 2 columns and convert them to `float`\n",
    "- **Task 2**: Remove `$` from `price` and convert it to `float`\n",
    "- **Task 3**: Convert `listing_added` and `last_review` to `datetime`\n",
    "\n",
    "<br>\n",
    "\n",
    "_Text/categorical data problems:_\n",
    "\n",
    "- **Task 4**: We need to collapse `room_type` into correct categories\n",
    "- **Task 5**: Divide `neighbourhood_full` into 2 columns and making sure they are clean\n",
    "\n",
    "<br>\n",
    "\n",
    "_Data range problems:_\n",
    "\n",
    "- **Task 6**: Make sure we set the correct maximum for `rating` column out of range values\n",
    "\n",
    "<br>\n",
    "\n",
    "_Dealing with missing data:_\n",
    "\n",
    "- **Task 7**: Understand the type of missingness, and deal with the missing data in most of the remaining columns. \n",
    "\n",
    "<br>\n",
    "\n",
    "_Is that all though?_\n",
    "\n",
    "- We need to investigate if we duplicates in our data\n",
    "- We need to make sure that data makes sense by applying some sanity checks on our DataFrame "
   ]
  },
  {
   "cell_type": "markdown",
   "metadata": {
    "colab_type": "text",
    "id": "afc64I2H0SO6"
   },
   "source": [
    "## **Q&A**"
   ]
  },
  {
   "cell_type": "markdown",
   "metadata": {
    "colab_type": "text",
    "id": "8jp5m7QmnCsM"
   },
   "source": [
    "## **Cleaning data** "
   ]
  },
  {
   "cell_type": "markdown",
   "metadata": {
    "colab_type": "text",
    "id": "7rrd0kYCnIYE"
   },
   "source": [
    "### Data type problems"
   ]
  },
  {
   "cell_type": "code",
   "execution_count": 12,
   "metadata": {
    "colab": {
     "base_uri": "https://localhost:8080/",
     "height": 479
    },
    "colab_type": "code",
    "id": "NawK3x5Tk7HF",
    "outputId": "4b67b78e-a47d-4832-fb17-09eb64596281"
   },
   "outputs": [
    {
     "data": {
      "text/html": [
       "<div>\n",
       "<style scoped>\n",
       "    .dataframe tbody tr th:only-of-type {\n",
       "        vertical-align: middle;\n",
       "    }\n",
       "\n",
       "    .dataframe tbody tr th {\n",
       "        vertical-align: top;\n",
       "    }\n",
       "\n",
       "    .dataframe thead th {\n",
       "        text-align: right;\n",
       "    }\n",
       "</style>\n",
       "<table border=\"1\" class=\"dataframe\">\n",
       "  <thead>\n",
       "    <tr style=\"text-align: right;\">\n",
       "      <th></th>\n",
       "      <th>listing_id</th>\n",
       "      <th>name</th>\n",
       "      <th>host_id</th>\n",
       "      <th>host_name</th>\n",
       "      <th>neighbourhood_full</th>\n",
       "      <th>coordinates</th>\n",
       "      <th>room_type</th>\n",
       "      <th>price</th>\n",
       "      <th>number_of_reviews</th>\n",
       "      <th>last_review</th>\n",
       "      <th>reviews_per_month</th>\n",
       "      <th>availability_365</th>\n",
       "      <th>rating</th>\n",
       "      <th>number_of_stays</th>\n",
       "      <th>5_stars</th>\n",
       "      <th>listing_added</th>\n",
       "    </tr>\n",
       "  </thead>\n",
       "  <tbody>\n",
       "    <tr>\n",
       "      <th>0</th>\n",
       "      <td>13740704</td>\n",
       "      <td>Cozy,budget friendly, cable inc, private entra...</td>\n",
       "      <td>20583125</td>\n",
       "      <td>Michel</td>\n",
       "      <td>Brooklyn, Flatlands</td>\n",
       "      <td>(40.63222, -73.93398)</td>\n",
       "      <td>Private room</td>\n",
       "      <td>45$</td>\n",
       "      <td>10</td>\n",
       "      <td>2018-12-12</td>\n",
       "      <td>0.70</td>\n",
       "      <td>85</td>\n",
       "      <td>4.100954</td>\n",
       "      <td>12.0</td>\n",
       "      <td>0.609432</td>\n",
       "      <td>2018-06-08</td>\n",
       "    </tr>\n",
       "    <tr>\n",
       "      <th>1</th>\n",
       "      <td>22005115</td>\n",
       "      <td>Two floor apartment near Central Park</td>\n",
       "      <td>82746113</td>\n",
       "      <td>Cecilia</td>\n",
       "      <td>Manhattan, Upper West Side</td>\n",
       "      <td>(40.78761, -73.96862)</td>\n",
       "      <td>Entire home/apt</td>\n",
       "      <td>135$</td>\n",
       "      <td>1</td>\n",
       "      <td>2019-06-30</td>\n",
       "      <td>1.00</td>\n",
       "      <td>145</td>\n",
       "      <td>3.367600</td>\n",
       "      <td>1.2</td>\n",
       "      <td>0.746135</td>\n",
       "      <td>2018-12-25</td>\n",
       "    </tr>\n",
       "    <tr>\n",
       "      <th>2</th>\n",
       "      <td>21667615</td>\n",
       "      <td>Beautiful 1BR in Brooklyn Heights</td>\n",
       "      <td>78251</td>\n",
       "      <td>Leslie</td>\n",
       "      <td>Brooklyn, Brooklyn Heights</td>\n",
       "      <td>(40.7007, -73.99517)</td>\n",
       "      <td>Entire home/apt</td>\n",
       "      <td>150$</td>\n",
       "      <td>0</td>\n",
       "      <td>NaN</td>\n",
       "      <td>NaN</td>\n",
       "      <td>65</td>\n",
       "      <td>NaN</td>\n",
       "      <td>NaN</td>\n",
       "      <td>NaN</td>\n",
       "      <td>2018-08-15</td>\n",
       "    </tr>\n",
       "    <tr>\n",
       "      <th>3</th>\n",
       "      <td>6425850</td>\n",
       "      <td>Spacious, charming studio</td>\n",
       "      <td>32715865</td>\n",
       "      <td>Yelena</td>\n",
       "      <td>Manhattan, Upper West Side</td>\n",
       "      <td>(40.79169, -73.97498)</td>\n",
       "      <td>Entire home/apt</td>\n",
       "      <td>86$</td>\n",
       "      <td>5</td>\n",
       "      <td>2017-09-23</td>\n",
       "      <td>0.13</td>\n",
       "      <td>0</td>\n",
       "      <td>4.763203</td>\n",
       "      <td>6.0</td>\n",
       "      <td>0.769947</td>\n",
       "      <td>2017-03-20</td>\n",
       "    </tr>\n",
       "    <tr>\n",
       "      <th>4</th>\n",
       "      <td>22986519</td>\n",
       "      <td>Bedroom on the lively Lower East Side</td>\n",
       "      <td>154262349</td>\n",
       "      <td>Brooke</td>\n",
       "      <td>Manhattan, Lower East Side</td>\n",
       "      <td>(40.71884, -73.98354)</td>\n",
       "      <td>Private room</td>\n",
       "      <td>160$</td>\n",
       "      <td>23</td>\n",
       "      <td>2019-06-12</td>\n",
       "      <td>2.29</td>\n",
       "      <td>102</td>\n",
       "      <td>3.822591</td>\n",
       "      <td>27.6</td>\n",
       "      <td>0.649383</td>\n",
       "      <td>2020-10-23</td>\n",
       "    </tr>\n",
       "  </tbody>\n",
       "</table>\n",
       "</div>"
      ],
      "text/plain": [
       "   listing_id                                               name    host_id  \\\n",
       "0    13740704  Cozy,budget friendly, cable inc, private entra...   20583125   \n",
       "1    22005115              Two floor apartment near Central Park   82746113   \n",
       "2    21667615                  Beautiful 1BR in Brooklyn Heights      78251   \n",
       "3     6425850                          Spacious, charming studio   32715865   \n",
       "4    22986519              Bedroom on the lively Lower East Side  154262349   \n",
       "\n",
       "  host_name          neighbourhood_full            coordinates  \\\n",
       "0    Michel         Brooklyn, Flatlands  (40.63222, -73.93398)   \n",
       "1   Cecilia  Manhattan, Upper West Side  (40.78761, -73.96862)   \n",
       "2    Leslie  Brooklyn, Brooklyn Heights   (40.7007, -73.99517)   \n",
       "3    Yelena  Manhattan, Upper West Side  (40.79169, -73.97498)   \n",
       "4    Brooke  Manhattan, Lower East Side  (40.71884, -73.98354)   \n",
       "\n",
       "         room_type price  number_of_reviews last_review  reviews_per_month  \\\n",
       "0     Private room   45$                 10  2018-12-12               0.70   \n",
       "1  Entire home/apt  135$                  1  2019-06-30               1.00   \n",
       "2  Entire home/apt  150$                  0         NaN                NaN   \n",
       "3  Entire home/apt   86$                  5  2017-09-23               0.13   \n",
       "4     Private room  160$                 23  2019-06-12               2.29   \n",
       "\n",
       "   availability_365    rating  number_of_stays   5_stars listing_added  \n",
       "0                85  4.100954             12.0  0.609432    2018-06-08  \n",
       "1               145  3.367600              1.2  0.746135    2018-12-25  \n",
       "2                65       NaN              NaN       NaN    2018-08-15  \n",
       "3                 0  4.763203              6.0  0.769947    2017-03-20  \n",
       "4               102  3.822591             27.6  0.649383    2020-10-23  "
      ]
     },
     "execution_count": 12,
     "metadata": {},
     "output_type": "execute_result"
    }
   ],
   "source": [
    "# Reminder of the DataFrame\n",
    "airbnb.head()"
   ]
  },
  {
   "cell_type": "markdown",
   "metadata": {
    "colab_type": "text",
    "id": "3Ev1mCwXniDv"
   },
   "source": [
    "##### **Task 1:** Replace `coordinates` with `latitude` and `longitude` columns"
   ]
  },
  {
   "cell_type": "markdown",
   "metadata": {
    "colab_type": "text",
    "id": "ijAlYOgglvzt"
   },
   "source": [
    "To perform this task, we will use the following methods:\n",
    "\n",
    "- `.str.replace(\"\",\"\")` replaces one string in each row of a column with another\n",
    "- `.str.split(\"\")` takes in a string and lets you split a column into two based on that string\n",
    "- `.astype()` lets you convert a column from one type to another"
   ]
  },
  {
   "cell_type": "code",
   "execution_count": 13,
   "metadata": {
    "colab": {
     "base_uri": "https://localhost:8080/",
     "height": 119
    },
    "colab_type": "code",
    "id": "UpIxvD_onOgt",
    "outputId": "bf3af853-768e-4358-e179-c0c334bdec5f"
   },
   "outputs": [
    {
     "name": "stderr",
     "output_type": "stream",
     "text": [
      "<ipython-input-13-a3512d7f25e6>:2: FutureWarning: The default value of regex will change from True to False in a future version. In addition, single character regular expressions will*not* be treated as literal strings when regex=True.\n",
      "  airbnb['coordinates'] = airbnb['coordinates'].str.replace(\"(\",\"\")\n",
      "<ipython-input-13-a3512d7f25e6>:3: FutureWarning: The default value of regex will change from True to False in a future version. In addition, single character regular expressions will*not* be treated as literal strings when regex=True.\n",
      "  airbnb['coordinates'] = airbnb['coordinates'].str.replace(\")\",\"\")\n"
     ]
    },
    {
     "data": {
      "text/plain": [
       "0    40.63222, -73.93398\n",
       "1    40.78761, -73.96862\n",
       "2     40.7007, -73.99517\n",
       "3    40.79169, -73.97498\n",
       "4    40.71884, -73.98354\n",
       "Name: coordinates, dtype: object"
      ]
     },
     "execution_count": 13,
     "metadata": {},
     "output_type": "execute_result"
    }
   ],
   "source": [
    "# Remove \"(\" and \")\" from coordinates\n",
    "airbnb['coordinates'] = airbnb['coordinates'].str.replace(\"(\",\"\")\n",
    "airbnb['coordinates'] = airbnb['coordinates'].str.replace(\")\",\"\")\n",
    "# Print the header of the column\n",
    "airbnb['coordinates'].head()"
   ]
  },
  {
   "cell_type": "code",
   "execution_count": 14,
   "metadata": {
    "colab": {
     "base_uri": "https://localhost:8080/",
     "height": 204
    },
    "colab_type": "code",
    "id": "nvEKmdRun2Md",
    "outputId": "19d527b7-17d8-42eb-e8c1-c597ae1c29b9"
   },
   "outputs": [
    {
     "data": {
      "text/html": [
       "<div>\n",
       "<style scoped>\n",
       "    .dataframe tbody tr th:only-of-type {\n",
       "        vertical-align: middle;\n",
       "    }\n",
       "\n",
       "    .dataframe tbody tr th {\n",
       "        vertical-align: top;\n",
       "    }\n",
       "\n",
       "    .dataframe thead th {\n",
       "        text-align: right;\n",
       "    }\n",
       "</style>\n",
       "<table border=\"1\" class=\"dataframe\">\n",
       "  <thead>\n",
       "    <tr style=\"text-align: right;\">\n",
       "      <th></th>\n",
       "      <th>0</th>\n",
       "      <th>1</th>\n",
       "    </tr>\n",
       "  </thead>\n",
       "  <tbody>\n",
       "    <tr>\n",
       "      <th>0</th>\n",
       "      <td>40.63222</td>\n",
       "      <td>-73.93398</td>\n",
       "    </tr>\n",
       "    <tr>\n",
       "      <th>1</th>\n",
       "      <td>40.78761</td>\n",
       "      <td>-73.96862</td>\n",
       "    </tr>\n",
       "    <tr>\n",
       "      <th>2</th>\n",
       "      <td>40.7007</td>\n",
       "      <td>-73.99517</td>\n",
       "    </tr>\n",
       "    <tr>\n",
       "      <th>3</th>\n",
       "      <td>40.79169</td>\n",
       "      <td>-73.97498</td>\n",
       "    </tr>\n",
       "    <tr>\n",
       "      <th>4</th>\n",
       "      <td>40.71884</td>\n",
       "      <td>-73.98354</td>\n",
       "    </tr>\n",
       "  </tbody>\n",
       "</table>\n",
       "</div>"
      ],
      "text/plain": [
       "          0           1\n",
       "0  40.63222   -73.93398\n",
       "1  40.78761   -73.96862\n",
       "2   40.7007   -73.99517\n",
       "3  40.79169   -73.97498\n",
       "4  40.71884   -73.98354"
      ]
     },
     "execution_count": 14,
     "metadata": {},
     "output_type": "execute_result"
    }
   ],
   "source": [
    "# Split column into two\n",
    "lat_long = airbnb['coordinates'].str.split(\",\", expand = True)\n",
    "lat_long.head()"
   ]
  },
  {
   "cell_type": "code",
   "execution_count": 15,
   "metadata": {
    "colab": {
     "base_uri": "https://localhost:8080/",
     "height": 479
    },
    "colab_type": "code",
    "id": "LezCKPzfn4yf",
    "outputId": "06eff294-308d-4aa7-a7e1-9be62ffaae73"
   },
   "outputs": [
    {
     "data": {
      "text/html": [
       "<div>\n",
       "<style scoped>\n",
       "    .dataframe tbody tr th:only-of-type {\n",
       "        vertical-align: middle;\n",
       "    }\n",
       "\n",
       "    .dataframe tbody tr th {\n",
       "        vertical-align: top;\n",
       "    }\n",
       "\n",
       "    .dataframe thead th {\n",
       "        text-align: right;\n",
       "    }\n",
       "</style>\n",
       "<table border=\"1\" class=\"dataframe\">\n",
       "  <thead>\n",
       "    <tr style=\"text-align: right;\">\n",
       "      <th></th>\n",
       "      <th>listing_id</th>\n",
       "      <th>name</th>\n",
       "      <th>host_id</th>\n",
       "      <th>host_name</th>\n",
       "      <th>neighbourhood_full</th>\n",
       "      <th>coordinates</th>\n",
       "      <th>room_type</th>\n",
       "      <th>price</th>\n",
       "      <th>number_of_reviews</th>\n",
       "      <th>last_review</th>\n",
       "      <th>reviews_per_month</th>\n",
       "      <th>availability_365</th>\n",
       "      <th>rating</th>\n",
       "      <th>number_of_stays</th>\n",
       "      <th>5_stars</th>\n",
       "      <th>listing_added</th>\n",
       "      <th>latitude</th>\n",
       "      <th>longitude</th>\n",
       "    </tr>\n",
       "  </thead>\n",
       "  <tbody>\n",
       "    <tr>\n",
       "      <th>0</th>\n",
       "      <td>13740704</td>\n",
       "      <td>Cozy,budget friendly, cable inc, private entra...</td>\n",
       "      <td>20583125</td>\n",
       "      <td>Michel</td>\n",
       "      <td>Brooklyn, Flatlands</td>\n",
       "      <td>40.63222, -73.93398</td>\n",
       "      <td>Private room</td>\n",
       "      <td>45$</td>\n",
       "      <td>10</td>\n",
       "      <td>2018-12-12</td>\n",
       "      <td>0.70</td>\n",
       "      <td>85</td>\n",
       "      <td>4.100954</td>\n",
       "      <td>12.0</td>\n",
       "      <td>0.609432</td>\n",
       "      <td>2018-06-08</td>\n",
       "      <td>40.63222</td>\n",
       "      <td>-73.93398</td>\n",
       "    </tr>\n",
       "    <tr>\n",
       "      <th>1</th>\n",
       "      <td>22005115</td>\n",
       "      <td>Two floor apartment near Central Park</td>\n",
       "      <td>82746113</td>\n",
       "      <td>Cecilia</td>\n",
       "      <td>Manhattan, Upper West Side</td>\n",
       "      <td>40.78761, -73.96862</td>\n",
       "      <td>Entire home/apt</td>\n",
       "      <td>135$</td>\n",
       "      <td>1</td>\n",
       "      <td>2019-06-30</td>\n",
       "      <td>1.00</td>\n",
       "      <td>145</td>\n",
       "      <td>3.367600</td>\n",
       "      <td>1.2</td>\n",
       "      <td>0.746135</td>\n",
       "      <td>2018-12-25</td>\n",
       "      <td>40.78761</td>\n",
       "      <td>-73.96862</td>\n",
       "    </tr>\n",
       "    <tr>\n",
       "      <th>2</th>\n",
       "      <td>21667615</td>\n",
       "      <td>Beautiful 1BR in Brooklyn Heights</td>\n",
       "      <td>78251</td>\n",
       "      <td>Leslie</td>\n",
       "      <td>Brooklyn, Brooklyn Heights</td>\n",
       "      <td>40.7007, -73.99517</td>\n",
       "      <td>Entire home/apt</td>\n",
       "      <td>150$</td>\n",
       "      <td>0</td>\n",
       "      <td>NaN</td>\n",
       "      <td>NaN</td>\n",
       "      <td>65</td>\n",
       "      <td>NaN</td>\n",
       "      <td>NaN</td>\n",
       "      <td>NaN</td>\n",
       "      <td>2018-08-15</td>\n",
       "      <td>40.7007</td>\n",
       "      <td>-73.99517</td>\n",
       "    </tr>\n",
       "    <tr>\n",
       "      <th>3</th>\n",
       "      <td>6425850</td>\n",
       "      <td>Spacious, charming studio</td>\n",
       "      <td>32715865</td>\n",
       "      <td>Yelena</td>\n",
       "      <td>Manhattan, Upper West Side</td>\n",
       "      <td>40.79169, -73.97498</td>\n",
       "      <td>Entire home/apt</td>\n",
       "      <td>86$</td>\n",
       "      <td>5</td>\n",
       "      <td>2017-09-23</td>\n",
       "      <td>0.13</td>\n",
       "      <td>0</td>\n",
       "      <td>4.763203</td>\n",
       "      <td>6.0</td>\n",
       "      <td>0.769947</td>\n",
       "      <td>2017-03-20</td>\n",
       "      <td>40.79169</td>\n",
       "      <td>-73.97498</td>\n",
       "    </tr>\n",
       "    <tr>\n",
       "      <th>4</th>\n",
       "      <td>22986519</td>\n",
       "      <td>Bedroom on the lively Lower East Side</td>\n",
       "      <td>154262349</td>\n",
       "      <td>Brooke</td>\n",
       "      <td>Manhattan, Lower East Side</td>\n",
       "      <td>40.71884, -73.98354</td>\n",
       "      <td>Private room</td>\n",
       "      <td>160$</td>\n",
       "      <td>23</td>\n",
       "      <td>2019-06-12</td>\n",
       "      <td>2.29</td>\n",
       "      <td>102</td>\n",
       "      <td>3.822591</td>\n",
       "      <td>27.6</td>\n",
       "      <td>0.649383</td>\n",
       "      <td>2020-10-23</td>\n",
       "      <td>40.71884</td>\n",
       "      <td>-73.98354</td>\n",
       "    </tr>\n",
       "  </tbody>\n",
       "</table>\n",
       "</div>"
      ],
      "text/plain": [
       "   listing_id                                               name    host_id  \\\n",
       "0    13740704  Cozy,budget friendly, cable inc, private entra...   20583125   \n",
       "1    22005115              Two floor apartment near Central Park   82746113   \n",
       "2    21667615                  Beautiful 1BR in Brooklyn Heights      78251   \n",
       "3     6425850                          Spacious, charming studio   32715865   \n",
       "4    22986519              Bedroom on the lively Lower East Side  154262349   \n",
       "\n",
       "  host_name          neighbourhood_full          coordinates        room_type  \\\n",
       "0    Michel         Brooklyn, Flatlands  40.63222, -73.93398     Private room   \n",
       "1   Cecilia  Manhattan, Upper West Side  40.78761, -73.96862  Entire home/apt   \n",
       "2    Leslie  Brooklyn, Brooklyn Heights   40.7007, -73.99517  Entire home/apt   \n",
       "3    Yelena  Manhattan, Upper West Side  40.79169, -73.97498  Entire home/apt   \n",
       "4    Brooke  Manhattan, Lower East Side  40.71884, -73.98354     Private room   \n",
       "\n",
       "  price  number_of_reviews last_review  reviews_per_month  availability_365  \\\n",
       "0   45$                 10  2018-12-12               0.70                85   \n",
       "1  135$                  1  2019-06-30               1.00               145   \n",
       "2  150$                  0         NaN                NaN                65   \n",
       "3   86$                  5  2017-09-23               0.13                 0   \n",
       "4  160$                 23  2019-06-12               2.29               102   \n",
       "\n",
       "     rating  number_of_stays   5_stars listing_added  latitude   longitude  \n",
       "0  4.100954             12.0  0.609432    2018-06-08  40.63222   -73.93398  \n",
       "1  3.367600              1.2  0.746135    2018-12-25  40.78761   -73.96862  \n",
       "2       NaN              NaN       NaN    2018-08-15   40.7007   -73.99517  \n",
       "3  4.763203              6.0  0.769947    2017-03-20  40.79169   -73.97498  \n",
       "4  3.822591             27.6  0.649383    2020-10-23  40.71884   -73.98354  "
      ]
     },
     "execution_count": 15,
     "metadata": {},
     "output_type": "execute_result"
    }
   ],
   "source": [
    "# Assign correct columns to latitude and longitude columns in airbnb\n",
    "airbnb['latitude'] = lat_long[0]\n",
    "airbnb['longitude'] = lat_long[1]\n",
    "# Print the header and confirm new column creation\n",
    "airbnb.head()"
   ]
  },
  {
   "cell_type": "code",
   "execution_count": 16,
   "metadata": {
    "colab": {
     "base_uri": "https://localhost:8080/",
     "height": 340
    },
    "colab_type": "code",
    "id": "toTHDWjFosXs",
    "outputId": "22273a70-dda1-4134-e5e7-1f2a8ed724ac"
   },
   "outputs": [
    {
     "data": {
      "text/plain": [
       "listing_id              int64\n",
       "name                   object\n",
       "host_id                 int64\n",
       "host_name              object\n",
       "neighbourhood_full     object\n",
       "coordinates            object\n",
       "room_type              object\n",
       "price                  object\n",
       "number_of_reviews       int64\n",
       "last_review            object\n",
       "reviews_per_month     float64\n",
       "availability_365        int64\n",
       "rating                float64\n",
       "number_of_stays       float64\n",
       "5_stars               float64\n",
       "listing_added          object\n",
       "latitude               object\n",
       "longitude              object\n",
       "dtype: object"
      ]
     },
     "execution_count": 16,
     "metadata": {},
     "output_type": "execute_result"
    }
   ],
   "source": [
    "# Print out dtypes again\n",
    "airbnb.dtypes"
   ]
  },
  {
   "cell_type": "code",
   "execution_count": 17,
   "metadata": {
    "colab": {
     "base_uri": "https://localhost:8080/",
     "height": 340
    },
    "colab_type": "code",
    "id": "8zDpaIqDoeNl",
    "outputId": "ead1ab19-04c5-4722-c181-eedddc64f057"
   },
   "outputs": [
    {
     "data": {
      "text/plain": [
       "listing_id              int64\n",
       "name                   object\n",
       "host_id                 int64\n",
       "host_name              object\n",
       "neighbourhood_full     object\n",
       "coordinates            object\n",
       "room_type              object\n",
       "price                  object\n",
       "number_of_reviews       int64\n",
       "last_review            object\n",
       "reviews_per_month     float64\n",
       "availability_365        int64\n",
       "rating                float64\n",
       "number_of_stays       float64\n",
       "5_stars               float64\n",
       "listing_added          object\n",
       "latitude              float64\n",
       "longitude             float64\n",
       "dtype: object"
      ]
     },
     "execution_count": 17,
     "metadata": {},
     "output_type": "execute_result"
    }
   ],
   "source": [
    "# Convert latitude and longitude to float\n",
    "airbnb['latitude'] = airbnb['latitude'].astype('float')\n",
    "airbnb['longitude'] = airbnb['longitude'].astype('float')\n",
    "# Print dtypes again\n",
    "airbnb.dtypes"
   ]
  },
  {
   "cell_type": "code",
   "execution_count": 18,
   "metadata": {
    "colab": {},
    "colab_type": "code",
    "id": "aKZGhJQRo8mp"
   },
   "outputs": [],
   "source": [
    "# Drop coordinates column\n",
    "airbnb.drop('coordinates', axis = 1, inplace = True)\n"
   ]
  },
  {
   "cell_type": "code",
   "execution_count": 19,
   "metadata": {},
   "outputs": [
    {
     "name": "stdout",
     "output_type": "stream",
     "text": [
      "Help on method drop in module pandas.core.frame:\n",
      "\n",
      "drop(labels=None, axis=0, index=None, columns=None, level=None, inplace=False, errors='raise') method of pandas.core.frame.DataFrame instance\n",
      "    Drop specified labels from rows or columns.\n",
      "    \n",
      "    Remove rows or columns by specifying label names and corresponding\n",
      "    axis, or by specifying directly index or column names. When using a\n",
      "    multi-index, labels on different levels can be removed by specifying\n",
      "    the level.\n",
      "    \n",
      "    Parameters\n",
      "    ----------\n",
      "    labels : single label or list-like\n",
      "        Index or column labels to drop.\n",
      "    axis : {0 or 'index', 1 or 'columns'}, default 0\n",
      "        Whether to drop labels from the index (0 or 'index') or\n",
      "        columns (1 or 'columns').\n",
      "    index : single label or list-like\n",
      "        Alternative to specifying axis (``labels, axis=0``\n",
      "        is equivalent to ``index=labels``).\n",
      "    columns : single label or list-like\n",
      "        Alternative to specifying axis (``labels, axis=1``\n",
      "        is equivalent to ``columns=labels``).\n",
      "    level : int or level name, optional\n",
      "        For MultiIndex, level from which the labels will be removed.\n",
      "    inplace : bool, default False\n",
      "        If False, return a copy. Otherwise, do operation\n",
      "        inplace and return None.\n",
      "    errors : {'ignore', 'raise'}, default 'raise'\n",
      "        If 'ignore', suppress error and only existing labels are\n",
      "        dropped.\n",
      "    \n",
      "    Returns\n",
      "    -------\n",
      "    DataFrame or None\n",
      "        DataFrame without the removed index or column labels or\n",
      "        None if ``inplace=True``.\n",
      "    \n",
      "    Raises\n",
      "    ------\n",
      "    KeyError\n",
      "        If any of the labels is not found in the selected axis.\n",
      "    \n",
      "    See Also\n",
      "    --------\n",
      "    DataFrame.loc : Label-location based indexer for selection by label.\n",
      "    DataFrame.dropna : Return DataFrame with labels on given axis omitted\n",
      "        where (all or any) data are missing.\n",
      "    DataFrame.drop_duplicates : Return DataFrame with duplicate rows\n",
      "        removed, optionally only considering certain columns.\n",
      "    Series.drop : Return Series with specified index labels removed.\n",
      "    \n",
      "    Examples\n",
      "    --------\n",
      "    >>> df = pd.DataFrame(np.arange(12).reshape(3, 4),\n",
      "    ...                   columns=['A', 'B', 'C', 'D'])\n",
      "    >>> df\n",
      "       A  B   C   D\n",
      "    0  0  1   2   3\n",
      "    1  4  5   6   7\n",
      "    2  8  9  10  11\n",
      "    \n",
      "    Drop columns\n",
      "    \n",
      "    >>> df.drop(['B', 'C'], axis=1)\n",
      "       A   D\n",
      "    0  0   3\n",
      "    1  4   7\n",
      "    2  8  11\n",
      "    \n",
      "    >>> df.drop(columns=['B', 'C'])\n",
      "       A   D\n",
      "    0  0   3\n",
      "    1  4   7\n",
      "    2  8  11\n",
      "    \n",
      "    Drop a row by index\n",
      "    \n",
      "    >>> df.drop([0, 1])\n",
      "       A  B   C   D\n",
      "    2  8  9  10  11\n",
      "    \n",
      "    Drop columns and/or rows of MultiIndex DataFrame\n",
      "    \n",
      "    >>> midx = pd.MultiIndex(levels=[['lama', 'cow', 'falcon'],\n",
      "    ...                              ['speed', 'weight', 'length']],\n",
      "    ...                      codes=[[0, 0, 0, 1, 1, 1, 2, 2, 2],\n",
      "    ...                             [0, 1, 2, 0, 1, 2, 0, 1, 2]])\n",
      "    >>> df = pd.DataFrame(index=midx, columns=['big', 'small'],\n",
      "    ...                   data=[[45, 30], [200, 100], [1.5, 1], [30, 20],\n",
      "    ...                         [250, 150], [1.5, 0.8], [320, 250],\n",
      "    ...                         [1, 0.8], [0.3, 0.2]])\n",
      "    >>> df\n",
      "                    big     small\n",
      "    lama    speed   45.0    30.0\n",
      "            weight  200.0   100.0\n",
      "            length  1.5     1.0\n",
      "    cow     speed   30.0    20.0\n",
      "            weight  250.0   150.0\n",
      "            length  1.5     0.8\n",
      "    falcon  speed   320.0   250.0\n",
      "            weight  1.0     0.8\n",
      "            length  0.3     0.2\n",
      "    \n",
      "    >>> df.drop(index='cow', columns='small')\n",
      "                    big\n",
      "    lama    speed   45.0\n",
      "            weight  200.0\n",
      "            length  1.5\n",
      "    falcon  speed   320.0\n",
      "            weight  1.0\n",
      "            length  0.3\n",
      "    \n",
      "    >>> df.drop(index='length', level=1)\n",
      "                    big     small\n",
      "    lama    speed   45.0    30.0\n",
      "            weight  200.0   100.0\n",
      "    cow     speed   30.0    20.0\n",
      "            weight  250.0   150.0\n",
      "    falcon  speed   320.0   250.0\n",
      "            weight  1.0     0.8\n",
      "\n"
     ]
    }
   ],
   "source": [
    "help(airbnb.drop)"
   ]
  },
  {
   "cell_type": "markdown",
   "metadata": {
    "colab_type": "text",
    "id": "bkgGPHpdpMEW"
   },
   "source": [
    "##### **Task 2:** Remove `$` from `price` and convert it to `float`"
   ]
  },
  {
   "cell_type": "markdown",
   "metadata": {
    "colab_type": "text",
    "id": "9jkKFojOmJy5"
   },
   "source": [
    "To perform this task, we will be using the following methods:\n",
    "\n",
    "- `.str.strip()` which removes a specified string from each row in a column\n",
    "- `.astype()`"
   ]
  },
  {
   "cell_type": "code",
   "execution_count": 23,
   "metadata": {
    "colab": {},
    "colab_type": "code",
    "id": "Ya76gXP1qLtn"
   },
   "outputs": [
    {
     "ename": "TypeError",
     "evalue": "can only concatenate str (not \"int\") to str",
     "output_type": "error",
     "traceback": [
      "\u001b[1;31m---------------------------------------------------------------------------\u001b[0m",
      "\u001b[1;31mTypeError\u001b[0m                                 Traceback (most recent call last)",
      "\u001b[1;32m<ipython-input-23-e3f542952f78>\u001b[0m in \u001b[0;36m<module>\u001b[1;34m\u001b[0m\n\u001b[0;32m      1\u001b[0m \u001b[1;31m# Calculate mean of price without conversion\u001b[0m\u001b[1;33m\u001b[0m\u001b[1;33m\u001b[0m\u001b[1;33m\u001b[0m\u001b[0m\n\u001b[1;32m----> 2\u001b[1;33m \u001b[0mairbnb\u001b[0m\u001b[1;33m[\u001b[0m\u001b[1;34m'price'\u001b[0m\u001b[1;33m]\u001b[0m\u001b[1;33m.\u001b[0m\u001b[0mmean\u001b[0m\u001b[1;33m(\u001b[0m\u001b[1;33m)\u001b[0m\u001b[1;33m\u001b[0m\u001b[1;33m\u001b[0m\u001b[0m\n\u001b[0m",
      "\u001b[1;32mc:\\users\\inpt\\appdata\\local\\programs\\python\\python39\\lib\\site-packages\\pandas\\core\\generic.py\u001b[0m in \u001b[0;36mmean\u001b[1;34m(self, axis, skipna, level, numeric_only, **kwargs)\u001b[0m\n\u001b[0;32m  11116\u001b[0m         )\n\u001b[0;32m  11117\u001b[0m         \u001b[1;32mdef\u001b[0m \u001b[0mmean\u001b[0m\u001b[1;33m(\u001b[0m\u001b[0mself\u001b[0m\u001b[1;33m,\u001b[0m \u001b[0maxis\u001b[0m\u001b[1;33m=\u001b[0m\u001b[1;32mNone\u001b[0m\u001b[1;33m,\u001b[0m \u001b[0mskipna\u001b[0m\u001b[1;33m=\u001b[0m\u001b[1;32mNone\u001b[0m\u001b[1;33m,\u001b[0m \u001b[0mlevel\u001b[0m\u001b[1;33m=\u001b[0m\u001b[1;32mNone\u001b[0m\u001b[1;33m,\u001b[0m \u001b[0mnumeric_only\u001b[0m\u001b[1;33m=\u001b[0m\u001b[1;32mNone\u001b[0m\u001b[1;33m,\u001b[0m \u001b[1;33m**\u001b[0m\u001b[0mkwargs\u001b[0m\u001b[1;33m)\u001b[0m\u001b[1;33m:\u001b[0m\u001b[1;33m\u001b[0m\u001b[1;33m\u001b[0m\u001b[0m\n\u001b[1;32m> 11118\u001b[1;33m             \u001b[1;32mreturn\u001b[0m \u001b[0mNDFrame\u001b[0m\u001b[1;33m.\u001b[0m\u001b[0mmean\u001b[0m\u001b[1;33m(\u001b[0m\u001b[0mself\u001b[0m\u001b[1;33m,\u001b[0m \u001b[0maxis\u001b[0m\u001b[1;33m,\u001b[0m \u001b[0mskipna\u001b[0m\u001b[1;33m,\u001b[0m \u001b[0mlevel\u001b[0m\u001b[1;33m,\u001b[0m \u001b[0mnumeric_only\u001b[0m\u001b[1;33m,\u001b[0m \u001b[1;33m**\u001b[0m\u001b[0mkwargs\u001b[0m\u001b[1;33m)\u001b[0m\u001b[1;33m\u001b[0m\u001b[1;33m\u001b[0m\u001b[0m\n\u001b[0m\u001b[0;32m  11119\u001b[0m \u001b[1;33m\u001b[0m\u001b[0m\n\u001b[0;32m  11120\u001b[0m         \u001b[1;31m# pandas\\core\\generic.py:10924: error: Cannot assign to a method\u001b[0m\u001b[1;33m\u001b[0m\u001b[1;33m\u001b[0m\u001b[1;33m\u001b[0m\u001b[0m\n",
      "\u001b[1;32mc:\\users\\inpt\\appdata\\local\\programs\\python\\python39\\lib\\site-packages\\pandas\\core\\generic.py\u001b[0m in \u001b[0;36mmean\u001b[1;34m(self, axis, skipna, level, numeric_only, **kwargs)\u001b[0m\n\u001b[0;32m  10724\u001b[0m \u001b[1;33m\u001b[0m\u001b[0m\n\u001b[0;32m  10725\u001b[0m     \u001b[1;32mdef\u001b[0m \u001b[0mmean\u001b[0m\u001b[1;33m(\u001b[0m\u001b[0mself\u001b[0m\u001b[1;33m,\u001b[0m \u001b[0maxis\u001b[0m\u001b[1;33m=\u001b[0m\u001b[1;32mNone\u001b[0m\u001b[1;33m,\u001b[0m \u001b[0mskipna\u001b[0m\u001b[1;33m=\u001b[0m\u001b[1;32mNone\u001b[0m\u001b[1;33m,\u001b[0m \u001b[0mlevel\u001b[0m\u001b[1;33m=\u001b[0m\u001b[1;32mNone\u001b[0m\u001b[1;33m,\u001b[0m \u001b[0mnumeric_only\u001b[0m\u001b[1;33m=\u001b[0m\u001b[1;32mNone\u001b[0m\u001b[1;33m,\u001b[0m \u001b[1;33m**\u001b[0m\u001b[0mkwargs\u001b[0m\u001b[1;33m)\u001b[0m\u001b[1;33m:\u001b[0m\u001b[1;33m\u001b[0m\u001b[1;33m\u001b[0m\u001b[0m\n\u001b[1;32m> 10726\u001b[1;33m         return self._stat_function(\n\u001b[0m\u001b[0;32m  10727\u001b[0m             \u001b[1;34m\"mean\"\u001b[0m\u001b[1;33m,\u001b[0m \u001b[0mnanops\u001b[0m\u001b[1;33m.\u001b[0m\u001b[0mnanmean\u001b[0m\u001b[1;33m,\u001b[0m \u001b[0maxis\u001b[0m\u001b[1;33m,\u001b[0m \u001b[0mskipna\u001b[0m\u001b[1;33m,\u001b[0m \u001b[0mlevel\u001b[0m\u001b[1;33m,\u001b[0m \u001b[0mnumeric_only\u001b[0m\u001b[1;33m,\u001b[0m \u001b[1;33m**\u001b[0m\u001b[0mkwargs\u001b[0m\u001b[1;33m\u001b[0m\u001b[1;33m\u001b[0m\u001b[0m\n\u001b[0;32m  10728\u001b[0m         )\n",
      "\u001b[1;32mc:\\users\\inpt\\appdata\\local\\programs\\python\\python39\\lib\\site-packages\\pandas\\core\\generic.py\u001b[0m in \u001b[0;36m_stat_function\u001b[1;34m(self, name, func, axis, skipna, level, numeric_only, **kwargs)\u001b[0m\n\u001b[0;32m  10709\u001b[0m         \u001b[1;32mif\u001b[0m \u001b[0mlevel\u001b[0m \u001b[1;32mis\u001b[0m \u001b[1;32mnot\u001b[0m \u001b[1;32mNone\u001b[0m\u001b[1;33m:\u001b[0m\u001b[1;33m\u001b[0m\u001b[1;33m\u001b[0m\u001b[0m\n\u001b[0;32m  10710\u001b[0m             \u001b[1;32mreturn\u001b[0m \u001b[0mself\u001b[0m\u001b[1;33m.\u001b[0m\u001b[0m_agg_by_level\u001b[0m\u001b[1;33m(\u001b[0m\u001b[0mname\u001b[0m\u001b[1;33m,\u001b[0m \u001b[0maxis\u001b[0m\u001b[1;33m=\u001b[0m\u001b[0maxis\u001b[0m\u001b[1;33m,\u001b[0m \u001b[0mlevel\u001b[0m\u001b[1;33m=\u001b[0m\u001b[0mlevel\u001b[0m\u001b[1;33m,\u001b[0m \u001b[0mskipna\u001b[0m\u001b[1;33m=\u001b[0m\u001b[0mskipna\u001b[0m\u001b[1;33m)\u001b[0m\u001b[1;33m\u001b[0m\u001b[1;33m\u001b[0m\u001b[0m\n\u001b[1;32m> 10711\u001b[1;33m         return self._reduce(\n\u001b[0m\u001b[0;32m  10712\u001b[0m             \u001b[0mfunc\u001b[0m\u001b[1;33m,\u001b[0m \u001b[0mname\u001b[0m\u001b[1;33m=\u001b[0m\u001b[0mname\u001b[0m\u001b[1;33m,\u001b[0m \u001b[0maxis\u001b[0m\u001b[1;33m=\u001b[0m\u001b[0maxis\u001b[0m\u001b[1;33m,\u001b[0m \u001b[0mskipna\u001b[0m\u001b[1;33m=\u001b[0m\u001b[0mskipna\u001b[0m\u001b[1;33m,\u001b[0m \u001b[0mnumeric_only\u001b[0m\u001b[1;33m=\u001b[0m\u001b[0mnumeric_only\u001b[0m\u001b[1;33m\u001b[0m\u001b[1;33m\u001b[0m\u001b[0m\n\u001b[0;32m  10713\u001b[0m         )\n",
      "\u001b[1;32mc:\\users\\inpt\\appdata\\local\\programs\\python\\python39\\lib\\site-packages\\pandas\\core\\series.py\u001b[0m in \u001b[0;36m_reduce\u001b[1;34m(self, op, name, axis, skipna, numeric_only, filter_type, **kwds)\u001b[0m\n\u001b[0;32m   4180\u001b[0m                 )\n\u001b[0;32m   4181\u001b[0m             \u001b[1;32mwith\u001b[0m \u001b[0mnp\u001b[0m\u001b[1;33m.\u001b[0m\u001b[0merrstate\u001b[0m\u001b[1;33m(\u001b[0m\u001b[0mall\u001b[0m\u001b[1;33m=\u001b[0m\u001b[1;34m\"ignore\"\u001b[0m\u001b[1;33m)\u001b[0m\u001b[1;33m:\u001b[0m\u001b[1;33m\u001b[0m\u001b[1;33m\u001b[0m\u001b[0m\n\u001b[1;32m-> 4182\u001b[1;33m                 \u001b[1;32mreturn\u001b[0m \u001b[0mop\u001b[0m\u001b[1;33m(\u001b[0m\u001b[0mdelegate\u001b[0m\u001b[1;33m,\u001b[0m \u001b[0mskipna\u001b[0m\u001b[1;33m=\u001b[0m\u001b[0mskipna\u001b[0m\u001b[1;33m,\u001b[0m \u001b[1;33m**\u001b[0m\u001b[0mkwds\u001b[0m\u001b[1;33m)\u001b[0m\u001b[1;33m\u001b[0m\u001b[1;33m\u001b[0m\u001b[0m\n\u001b[0m\u001b[0;32m   4183\u001b[0m \u001b[1;33m\u001b[0m\u001b[0m\n\u001b[0;32m   4184\u001b[0m     \u001b[1;32mdef\u001b[0m \u001b[0m_reindex_indexer\u001b[0m\u001b[1;33m(\u001b[0m\u001b[0mself\u001b[0m\u001b[1;33m,\u001b[0m \u001b[0mnew_index\u001b[0m\u001b[1;33m,\u001b[0m \u001b[0mindexer\u001b[0m\u001b[1;33m,\u001b[0m \u001b[0mcopy\u001b[0m\u001b[1;33m)\u001b[0m\u001b[1;33m:\u001b[0m\u001b[1;33m\u001b[0m\u001b[1;33m\u001b[0m\u001b[0m\n",
      "\u001b[1;32mc:\\users\\inpt\\appdata\\local\\programs\\python\\python39\\lib\\site-packages\\pandas\\core\\nanops.py\u001b[0m in \u001b[0;36m_f\u001b[1;34m(*args, **kwargs)\u001b[0m\n\u001b[0;32m     71\u001b[0m             \u001b[1;32mtry\u001b[0m\u001b[1;33m:\u001b[0m\u001b[1;33m\u001b[0m\u001b[1;33m\u001b[0m\u001b[0m\n\u001b[0;32m     72\u001b[0m                 \u001b[1;32mwith\u001b[0m \u001b[0mnp\u001b[0m\u001b[1;33m.\u001b[0m\u001b[0merrstate\u001b[0m\u001b[1;33m(\u001b[0m\u001b[0minvalid\u001b[0m\u001b[1;33m=\u001b[0m\u001b[1;34m\"ignore\"\u001b[0m\u001b[1;33m)\u001b[0m\u001b[1;33m:\u001b[0m\u001b[1;33m\u001b[0m\u001b[1;33m\u001b[0m\u001b[0m\n\u001b[1;32m---> 73\u001b[1;33m                     \u001b[1;32mreturn\u001b[0m \u001b[0mf\u001b[0m\u001b[1;33m(\u001b[0m\u001b[1;33m*\u001b[0m\u001b[0margs\u001b[0m\u001b[1;33m,\u001b[0m \u001b[1;33m**\u001b[0m\u001b[0mkwargs\u001b[0m\u001b[1;33m)\u001b[0m\u001b[1;33m\u001b[0m\u001b[1;33m\u001b[0m\u001b[0m\n\u001b[0m\u001b[0;32m     74\u001b[0m             \u001b[1;32mexcept\u001b[0m \u001b[0mValueError\u001b[0m \u001b[1;32mas\u001b[0m \u001b[0me\u001b[0m\u001b[1;33m:\u001b[0m\u001b[1;33m\u001b[0m\u001b[1;33m\u001b[0m\u001b[0m\n\u001b[0;32m     75\u001b[0m                 \u001b[1;31m# we want to transform an object array\u001b[0m\u001b[1;33m\u001b[0m\u001b[1;33m\u001b[0m\u001b[1;33m\u001b[0m\u001b[0m\n",
      "\u001b[1;32mc:\\users\\inpt\\appdata\\local\\programs\\python\\python39\\lib\\site-packages\\pandas\\core\\nanops.py\u001b[0m in \u001b[0;36mf\u001b[1;34m(values, axis, skipna, **kwds)\u001b[0m\n\u001b[0;32m    133\u001b[0m                     \u001b[0mresult\u001b[0m \u001b[1;33m=\u001b[0m \u001b[0malt\u001b[0m\u001b[1;33m(\u001b[0m\u001b[0mvalues\u001b[0m\u001b[1;33m,\u001b[0m \u001b[0maxis\u001b[0m\u001b[1;33m=\u001b[0m\u001b[0maxis\u001b[0m\u001b[1;33m,\u001b[0m \u001b[0mskipna\u001b[0m\u001b[1;33m=\u001b[0m\u001b[0mskipna\u001b[0m\u001b[1;33m,\u001b[0m \u001b[1;33m**\u001b[0m\u001b[0mkwds\u001b[0m\u001b[1;33m)\u001b[0m\u001b[1;33m\u001b[0m\u001b[1;33m\u001b[0m\u001b[0m\n\u001b[0;32m    134\u001b[0m             \u001b[1;32melse\u001b[0m\u001b[1;33m:\u001b[0m\u001b[1;33m\u001b[0m\u001b[1;33m\u001b[0m\u001b[0m\n\u001b[1;32m--> 135\u001b[1;33m                 \u001b[0mresult\u001b[0m \u001b[1;33m=\u001b[0m \u001b[0malt\u001b[0m\u001b[1;33m(\u001b[0m\u001b[0mvalues\u001b[0m\u001b[1;33m,\u001b[0m \u001b[0maxis\u001b[0m\u001b[1;33m=\u001b[0m\u001b[0maxis\u001b[0m\u001b[1;33m,\u001b[0m \u001b[0mskipna\u001b[0m\u001b[1;33m=\u001b[0m\u001b[0mskipna\u001b[0m\u001b[1;33m,\u001b[0m \u001b[1;33m**\u001b[0m\u001b[0mkwds\u001b[0m\u001b[1;33m)\u001b[0m\u001b[1;33m\u001b[0m\u001b[1;33m\u001b[0m\u001b[0m\n\u001b[0m\u001b[0;32m    136\u001b[0m \u001b[1;33m\u001b[0m\u001b[0m\n\u001b[0;32m    137\u001b[0m             \u001b[1;32mreturn\u001b[0m \u001b[0mresult\u001b[0m\u001b[1;33m\u001b[0m\u001b[1;33m\u001b[0m\u001b[0m\n",
      "\u001b[1;32mc:\\users\\inpt\\appdata\\local\\programs\\python\\python39\\lib\\site-packages\\pandas\\core\\nanops.py\u001b[0m in \u001b[0;36mnew_func\u001b[1;34m(values, axis, skipna, mask, **kwargs)\u001b[0m\n\u001b[0;32m    392\u001b[0m             \u001b[0mmask\u001b[0m \u001b[1;33m=\u001b[0m \u001b[0misna\u001b[0m\u001b[1;33m(\u001b[0m\u001b[0mvalues\u001b[0m\u001b[1;33m)\u001b[0m\u001b[1;33m\u001b[0m\u001b[1;33m\u001b[0m\u001b[0m\n\u001b[0;32m    393\u001b[0m \u001b[1;33m\u001b[0m\u001b[0m\n\u001b[1;32m--> 394\u001b[1;33m         \u001b[0mresult\u001b[0m \u001b[1;33m=\u001b[0m \u001b[0mfunc\u001b[0m\u001b[1;33m(\u001b[0m\u001b[0mvalues\u001b[0m\u001b[1;33m,\u001b[0m \u001b[0maxis\u001b[0m\u001b[1;33m=\u001b[0m\u001b[0maxis\u001b[0m\u001b[1;33m,\u001b[0m \u001b[0mskipna\u001b[0m\u001b[1;33m=\u001b[0m\u001b[0mskipna\u001b[0m\u001b[1;33m,\u001b[0m \u001b[0mmask\u001b[0m\u001b[1;33m=\u001b[0m\u001b[0mmask\u001b[0m\u001b[1;33m,\u001b[0m \u001b[1;33m**\u001b[0m\u001b[0mkwargs\u001b[0m\u001b[1;33m)\u001b[0m\u001b[1;33m\u001b[0m\u001b[1;33m\u001b[0m\u001b[0m\n\u001b[0m\u001b[0;32m    395\u001b[0m \u001b[1;33m\u001b[0m\u001b[0m\n\u001b[0;32m    396\u001b[0m         \u001b[1;32mif\u001b[0m \u001b[0mdatetimelike\u001b[0m\u001b[1;33m:\u001b[0m\u001b[1;33m\u001b[0m\u001b[1;33m\u001b[0m\u001b[0m\n",
      "\u001b[1;32mc:\\users\\inpt\\appdata\\local\\programs\\python\\python39\\lib\\site-packages\\pandas\\core\\nanops.py\u001b[0m in \u001b[0;36mnanmean\u001b[1;34m(values, axis, skipna, mask)\u001b[0m\n\u001b[0;32m    631\u001b[0m \u001b[1;33m\u001b[0m\u001b[0m\n\u001b[0;32m    632\u001b[0m     \u001b[0mcount\u001b[0m \u001b[1;33m=\u001b[0m \u001b[0m_get_counts\u001b[0m\u001b[1;33m(\u001b[0m\u001b[0mvalues\u001b[0m\u001b[1;33m.\u001b[0m\u001b[0mshape\u001b[0m\u001b[1;33m,\u001b[0m \u001b[0mmask\u001b[0m\u001b[1;33m,\u001b[0m \u001b[0maxis\u001b[0m\u001b[1;33m,\u001b[0m \u001b[0mdtype\u001b[0m\u001b[1;33m=\u001b[0m\u001b[0mdtype_count\u001b[0m\u001b[1;33m)\u001b[0m\u001b[1;33m\u001b[0m\u001b[1;33m\u001b[0m\u001b[0m\n\u001b[1;32m--> 633\u001b[1;33m     \u001b[0mthe_sum\u001b[0m \u001b[1;33m=\u001b[0m \u001b[0m_ensure_numeric\u001b[0m\u001b[1;33m(\u001b[0m\u001b[0mvalues\u001b[0m\u001b[1;33m.\u001b[0m\u001b[0msum\u001b[0m\u001b[1;33m(\u001b[0m\u001b[0maxis\u001b[0m\u001b[1;33m,\u001b[0m \u001b[0mdtype\u001b[0m\u001b[1;33m=\u001b[0m\u001b[0mdtype_sum\u001b[0m\u001b[1;33m)\u001b[0m\u001b[1;33m)\u001b[0m\u001b[1;33m\u001b[0m\u001b[1;33m\u001b[0m\u001b[0m\n\u001b[0m\u001b[0;32m    634\u001b[0m \u001b[1;33m\u001b[0m\u001b[0m\n\u001b[0;32m    635\u001b[0m     \u001b[1;32mif\u001b[0m \u001b[0maxis\u001b[0m \u001b[1;32mis\u001b[0m \u001b[1;32mnot\u001b[0m \u001b[1;32mNone\u001b[0m \u001b[1;32mand\u001b[0m \u001b[0mgetattr\u001b[0m\u001b[1;33m(\u001b[0m\u001b[0mthe_sum\u001b[0m\u001b[1;33m,\u001b[0m \u001b[1;34m\"ndim\"\u001b[0m\u001b[1;33m,\u001b[0m \u001b[1;32mFalse\u001b[0m\u001b[1;33m)\u001b[0m\u001b[1;33m:\u001b[0m\u001b[1;33m\u001b[0m\u001b[1;33m\u001b[0m\u001b[0m\n",
      "\u001b[1;32mc:\\users\\inpt\\appdata\\local\\programs\\python\\python39\\lib\\site-packages\\numpy\\core\\_methods.py\u001b[0m in \u001b[0;36m_sum\u001b[1;34m(a, axis, dtype, out, keepdims, initial, where)\u001b[0m\n\u001b[0;32m     45\u001b[0m def _sum(a, axis=None, dtype=None, out=None, keepdims=False,\n\u001b[0;32m     46\u001b[0m          initial=_NoValue, where=True):\n\u001b[1;32m---> 47\u001b[1;33m     \u001b[1;32mreturn\u001b[0m \u001b[0mumr_sum\u001b[0m\u001b[1;33m(\u001b[0m\u001b[0ma\u001b[0m\u001b[1;33m,\u001b[0m \u001b[0maxis\u001b[0m\u001b[1;33m,\u001b[0m \u001b[0mdtype\u001b[0m\u001b[1;33m,\u001b[0m \u001b[0mout\u001b[0m\u001b[1;33m,\u001b[0m \u001b[0mkeepdims\u001b[0m\u001b[1;33m,\u001b[0m \u001b[0minitial\u001b[0m\u001b[1;33m,\u001b[0m \u001b[0mwhere\u001b[0m\u001b[1;33m)\u001b[0m\u001b[1;33m\u001b[0m\u001b[1;33m\u001b[0m\u001b[0m\n\u001b[0m\u001b[0;32m     48\u001b[0m \u001b[1;33m\u001b[0m\u001b[0m\n\u001b[0;32m     49\u001b[0m def _prod(a, axis=None, dtype=None, out=None, keepdims=False,\n",
      "\u001b[1;31mTypeError\u001b[0m: can only concatenate str (not \"int\") to str"
     ]
    }
   ],
   "source": [
    "# Calculate mean of price without conversion\n",
    "airbnb['price'].mean()"
   ]
  },
  {
   "cell_type": "code",
   "execution_count": 24,
   "metadata": {
    "colab": {
     "base_uri": "https://localhost:8080/",
     "height": 119
    },
    "colab_type": "code",
    "id": "gHIB5d-1pdIO",
    "outputId": "8b332216-20e5-42a9-a070-b705d2ae84ae"
   },
   "outputs": [
    {
     "data": {
      "text/plain": [
       "0     45\n",
       "1    135\n",
       "2    150\n",
       "3     86\n",
       "4    160\n",
       "Name: price, dtype: object"
      ]
     },
     "execution_count": 24,
     "metadata": {},
     "output_type": "execute_result"
    }
   ],
   "source": [
    "# Remove $ from price before conversion to float\n",
    "airbnb['price'] = airbnb['price'].str.strip(\"$\")\n",
    "# Print header to make sure change was done\n",
    "airbnb['price'].head()"
   ]
  },
  {
   "cell_type": "code",
   "execution_count": 25,
   "metadata": {
    "colab": {
     "base_uri": "https://localhost:8080/",
     "height": 34
    },
    "colab_type": "code",
    "id": "Gz4Q2xoGp4AJ",
    "outputId": "2d453984-04ff-4b0e-d646-5890304044db"
   },
   "outputs": [
    {
     "data": {
      "text/plain": [
       "150.90512217564665"
      ]
     },
     "execution_count": 25,
     "metadata": {},
     "output_type": "execute_result"
    }
   ],
   "source": [
    "# Convert price to float\n",
    "airbnb['price'] = airbnb['price'].astype('float')\n",
    "# Calculate mean of price after conversion\n",
    "airbnb['price'].mean()"
   ]
  },
  {
   "cell_type": "code",
   "execution_count": 26,
   "metadata": {
    "colab": {
     "base_uri": "https://localhost:8080/",
     "height": 279
    },
    "colab_type": "code",
    "id": "mSLxGradqVix",
    "outputId": "25dcea7c-a0ee-49e4-cddf-44c0b5c43f55"
   },
   "outputs": [
    {
     "data": {
      "image/png": "[encoded data removed]",
      "text/plain": [
       "<Figure size 432x288 with 1 Axes>"
      ]
     },
     "metadata": {
      "needs_background": "light"
     },
     "output_type": "display_data"
    }
   ],
   "source": [
    "# Visualize distribution of prices\n",
    "sns.distplot(airbnb['price'], bins = 20)\n",
    "plt.show()"
   ]
  },
  {
   "cell_type": "markdown",
   "metadata": {
    "colab_type": "text",
    "id": "HZKW5mWvqg2Z"
   },
   "source": [
    "##### **Task 3:** Convert `listing_added` and `last_review` columns to `datetime`"
   ]
  },
  {
   "cell_type": "markdown",
   "metadata": {
    "colab_type": "text",
    "id": "9ijLZ4zwmWNS"
   },
   "source": [
    "To perform this task, we will use the following functions:\n",
    "\n",
    "- `pd.to_datetime(format = \"\")`\n",
    "  - `format` takes in the desired date format `\"%Y-%m-%d\"`"
   ]
  },
  {
   "cell_type": "code",
   "execution_count": 27,
   "metadata": {
    "colab": {
     "base_uri": "https://localhost:8080/",
     "height": 204
    },
    "colab_type": "code",
    "id": "cggG5Bucqc6T",
    "outputId": "9f5aed2d-0542-4959-8694-958801d8acdf"
   },
   "outputs": [
    {
     "data": {
      "text/html": [
       "<div>\n",
       "<style scoped>\n",
       "    .dataframe tbody tr th:only-of-type {\n",
       "        vertical-align: middle;\n",
       "    }\n",
       "\n",
       "    .dataframe tbody tr th {\n",
       "        vertical-align: top;\n",
       "    }\n",
       "\n",
       "    .dataframe thead th {\n",
       "        text-align: right;\n",
       "    }\n",
       "</style>\n",
       "<table border=\"1\" class=\"dataframe\">\n",
       "  <thead>\n",
       "    <tr style=\"text-align: right;\">\n",
       "      <th></th>\n",
       "      <th>listing_added</th>\n",
       "      <th>last_review</th>\n",
       "    </tr>\n",
       "  </thead>\n",
       "  <tbody>\n",
       "    <tr>\n",
       "      <th>0</th>\n",
       "      <td>2018-06-08</td>\n",
       "      <td>2018-12-12</td>\n",
       "    </tr>\n",
       "    <tr>\n",
       "      <th>1</th>\n",
       "      <td>2018-12-25</td>\n",
       "      <td>2019-06-30</td>\n",
       "    </tr>\n",
       "    <tr>\n",
       "      <th>2</th>\n",
       "      <td>2018-08-15</td>\n",
       "      <td>NaN</td>\n",
       "    </tr>\n",
       "    <tr>\n",
       "      <th>3</th>\n",
       "      <td>2017-03-20</td>\n",
       "      <td>2017-09-23</td>\n",
       "    </tr>\n",
       "    <tr>\n",
       "      <th>4</th>\n",
       "      <td>2020-10-23</td>\n",
       "      <td>2019-06-12</td>\n",
       "    </tr>\n",
       "  </tbody>\n",
       "</table>\n",
       "</div>"
      ],
      "text/plain": [
       "  listing_added last_review\n",
       "0    2018-06-08  2018-12-12\n",
       "1    2018-12-25  2019-06-30\n",
       "2    2018-08-15         NaN\n",
       "3    2017-03-20  2017-09-23\n",
       "4    2020-10-23  2019-06-12"
      ]
     },
     "execution_count": 27,
     "metadata": {},
     "output_type": "execute_result"
    }
   ],
   "source": [
    "# Print header of two columns\n",
    "airbnb[['listing_added', 'last_review']].head()"
   ]
  },
  {
   "cell_type": "code",
   "execution_count": 28,
   "metadata": {
    "colab": {},
    "colab_type": "code",
    "id": "9lVyr6-Gs19z"
   },
   "outputs": [],
   "source": [
    "# Convert both columns to datetime\n",
    "airbnb['listing_added'] = pd.to_datetime(airbnb['listing_added'], format = '%Y-%m-%d')\n",
    "airbnb['last_review'] = pd.to_datetime(airbnb['last_review'], format = '%Y-%m-%d')"
   ]
  },
  {
   "cell_type": "code",
   "execution_count": 29,
   "metadata": {
    "colab": {
     "base_uri": "https://localhost:8080/",
     "height": 170
    },
    "colab_type": "code",
    "id": "jlVDTYUvtG1f",
    "outputId": "dc7b3850-48ad-45e8-9641-7ba05c7fc6b2"
   },
   "outputs": [
    {
     "name": "stdout",
     "output_type": "stream",
     "text": [
      "  listing_added last_review\n",
      "0    2018-06-08  2018-12-12\n",
      "1    2018-12-25  2019-06-30\n",
      "2    2018-08-15         NaT\n",
      "3    2017-03-20  2017-09-23\n",
      "4    2020-10-23  2019-06-12\n",
      "listing_added    datetime64[ns]\n",
      "last_review      datetime64[ns]\n",
      "dtype: object\n"
     ]
    }
   ],
   "source": [
    "# Print header and datatypes of both columns again\n",
    "print(airbnb[['listing_added', 'last_review']].head())\n",
    "print(airbnb[['listing_added', 'last_review']].dtypes)"
   ]
  },
  {
   "cell_type": "markdown",
   "metadata": {
    "colab_type": "text",
    "id": "SvMs1y6gucs6"
   },
   "source": [
    "### Text and categorical data problems"
   ]
  },
  {
   "cell_type": "markdown",
   "metadata": {
    "colab_type": "text",
    "id": "Z19JboeNukIS"
   },
   "source": [
    "##### **Task 4:** We need to collapse `room_type` into correct categories"
   ]
  },
  {
   "cell_type": "markdown",
   "metadata": {
    "colab_type": "text",
    "id": "85lW-8k_msaY"
   },
   "source": [
    "To perform this task, we will be using the following methods:\n",
    "\n",
    "- `.str.lower()` to lowercase all rows in a string column\n",
    "- `.str.strip()` to remove all white spaces of each row in a string column\n",
    "- `.replace()` to replace values in a column with another"
   ]
  },
  {
   "cell_type": "code",
   "execution_count": 30,
   "metadata": {
    "colab": {
     "base_uri": "https://localhost:8080/",
     "height": 51
    },
    "colab_type": "code",
    "id": "hPJHPWB4tOlP",
    "outputId": "ad30c92a-b7ed-49a6-c592-e70f82f2a94d"
   },
   "outputs": [
    {
     "data": {
      "text/plain": [
       "array(['Private room', 'Entire home/apt', 'Private', 'Shared room',\n",
       "       'PRIVATE ROOM', 'home', '   Shared room      '], dtype=object)"
      ]
     },
     "execution_count": 30,
     "metadata": {},
     "output_type": "execute_result"
    }
   ],
   "source": [
    "# Print unique values of `room_type`\n",
    "airbnb['room_type'].unique()"
   ]
  },
  {
   "cell_type": "code",
   "execution_count": 31,
   "metadata": {
    "colab": {
     "base_uri": "https://localhost:8080/",
     "height": 51
    },
    "colab_type": "code",
    "id": "HwnSnaPEvncy",
    "outputId": "66d9e493-e5c0-471e-8f5b-632f8b0f326d"
   },
   "outputs": [
    {
     "data": {
      "text/plain": [
       "array(['private room', 'entire home/apt', 'private', 'shared room',\n",
       "       'home', '   shared room      '], dtype=object)"
      ]
     },
     "execution_count": 31,
     "metadata": {},
     "output_type": "execute_result"
    }
   ],
   "source": [
    "# Deal with capitalized values\n",
    "airbnb['room_type'] = airbnb['room_type'].str.lower()\n",
    "airbnb['room_type'].unique()"
   ]
  },
  {
   "cell_type": "code",
   "execution_count": 32,
   "metadata": {
    "colab": {
     "base_uri": "https://localhost:8080/",
     "height": 51
    },
    "colab_type": "code",
    "id": "u47Ws-GtvvrC",
    "outputId": "3df8ba6a-9c50-4b1f-83c9-d99e855eca11"
   },
   "outputs": [
    {
     "data": {
      "text/plain": [
       "array(['private room', 'entire home/apt', 'private', 'shared room',\n",
       "       'home'], dtype=object)"
      ]
     },
     "execution_count": 32,
     "metadata": {},
     "output_type": "execute_result"
    }
   ],
   "source": [
    "# Deal with trailing spaces\n",
    "airbnb['room_type'] = airbnb['room_type'].str.strip()\n",
    "airbnb['room_type'].unique()"
   ]
  },
  {
   "cell_type": "code",
   "execution_count": 33,
   "metadata": {
    "colab": {
     "base_uri": "https://localhost:8080/",
     "height": 34
    },
    "colab_type": "code",
    "id": "tYyyzZ2pwMtx",
    "outputId": "104a9671-5899-4e62-edcb-ca6be7cd29cb"
   },
   "outputs": [
    {
     "data": {
      "text/plain": [
       "array(['Private Room', 'Entire place', 'Shared Room'], dtype=object)"
      ]
     },
     "execution_count": 33,
     "metadata": {},
     "output_type": "execute_result"
    }
   ],
   "source": [
    "# Replace values to 'Shared room', 'Entire place', 'Private room' and 'Hotel room' (if applicable).\n",
    "mappings = {'private room': 'Private Room', \n",
    "            'private': 'Private Room',\n",
    "            'entire home/apt': 'Entire place',\n",
    "            'shared room': 'Shared Room',\n",
    "            'home': 'Entire place'}\n",
    "\n",
    "# Replace values and collapse data\n",
    "airbnb['room_type'] = airbnb['room_type'].replace(mappings)\n",
    "airbnb['room_type'].unique()"
   ]
  },
  {
   "cell_type": "markdown",
   "metadata": {
    "colab_type": "text",
    "id": "VA_2KMIkxjhL"
   },
   "source": [
    "##### **Task 5:** Divide `neighbourhood_full` into 2 columns and making sure they are clean"
   ]
  },
  {
   "cell_type": "code",
   "execution_count": 34,
   "metadata": {
    "colab": {
     "base_uri": "https://localhost:8080/",
     "height": 119
    },
    "colab_type": "code",
    "id": "Nc3u9b57xKOu",
    "outputId": "9e815839-48cf-4a48-fda3-0735ddfec707"
   },
   "outputs": [
    {
     "data": {
      "text/plain": [
       "0           Brooklyn, Flatlands\n",
       "1    Manhattan, Upper West Side\n",
       "2    Brooklyn, Brooklyn Heights\n",
       "3    Manhattan, Upper West Side\n",
       "4    Manhattan, Lower East Side\n",
       "Name: neighbourhood_full, dtype: object"
      ]
     },
     "execution_count": 34,
     "metadata": {},
     "output_type": "execute_result"
    }
   ],
   "source": [
    "# Print header of column\n",
    "airbnb['neighbourhood_full'].head()"
   ]
  },
  {
   "cell_type": "code",
   "execution_count": 35,
   "metadata": {
    "colab": {
     "base_uri": "https://localhost:8080/",
     "height": 204
    },
    "colab_type": "code",
    "id": "88O9T3WYxreo",
    "outputId": "69009b8a-6957-407c-a9ac-2e6434c10169"
   },
   "outputs": [
    {
     "data": {
      "text/html": [
       "<div>\n",
       "<style scoped>\n",
       "    .dataframe tbody tr th:only-of-type {\n",
       "        vertical-align: middle;\n",
       "    }\n",
       "\n",
       "    .dataframe tbody tr th {\n",
       "        vertical-align: top;\n",
       "    }\n",
       "\n",
       "    .dataframe thead th {\n",
       "        text-align: right;\n",
       "    }\n",
       "</style>\n",
       "<table border=\"1\" class=\"dataframe\">\n",
       "  <thead>\n",
       "    <tr style=\"text-align: right;\">\n",
       "      <th></th>\n",
       "      <th>0</th>\n",
       "      <th>1</th>\n",
       "    </tr>\n",
       "  </thead>\n",
       "  <tbody>\n",
       "    <tr>\n",
       "      <th>0</th>\n",
       "      <td>Brooklyn</td>\n",
       "      <td>Flatlands</td>\n",
       "    </tr>\n",
       "    <tr>\n",
       "      <th>1</th>\n",
       "      <td>Manhattan</td>\n",
       "      <td>Upper West Side</td>\n",
       "    </tr>\n",
       "    <tr>\n",
       "      <th>2</th>\n",
       "      <td>Brooklyn</td>\n",
       "      <td>Brooklyn Heights</td>\n",
       "    </tr>\n",
       "    <tr>\n",
       "      <th>3</th>\n",
       "      <td>Manhattan</td>\n",
       "      <td>Upper West Side</td>\n",
       "    </tr>\n",
       "    <tr>\n",
       "      <th>4</th>\n",
       "      <td>Manhattan</td>\n",
       "      <td>Lower East Side</td>\n",
       "    </tr>\n",
       "  </tbody>\n",
       "</table>\n",
       "</div>"
      ],
      "text/plain": [
       "           0                  1\n",
       "0   Brooklyn          Flatlands\n",
       "1  Manhattan    Upper West Side\n",
       "2   Brooklyn   Brooklyn Heights\n",
       "3  Manhattan    Upper West Side\n",
       "4  Manhattan    Lower East Side"
      ]
     },
     "execution_count": 35,
     "metadata": {},
     "output_type": "execute_result"
    }
   ],
   "source": [
    "# Split neighbourhood_full\n",
    "borough_neighbourhood = airbnb['neighbourhood_full'].str.split(\",\", expand = True)\n",
    "borough_neighbourhood.head()"
   ]
  },
  {
   "cell_type": "code",
   "execution_count": 36,
   "metadata": {
    "colab": {
     "base_uri": "https://localhost:8080/",
     "height": 204
    },
    "colab_type": "code",
    "id": "mmKhwDxkypDJ",
    "outputId": "4fe03746-000b-4281-dfd9-890184f799f5"
   },
   "outputs": [
    {
     "data": {
      "text/html": [
       "<div>\n",
       "<style scoped>\n",
       "    .dataframe tbody tr th:only-of-type {\n",
       "        vertical-align: middle;\n",
       "    }\n",
       "\n",
       "    .dataframe tbody tr th {\n",
       "        vertical-align: top;\n",
       "    }\n",
       "\n",
       "    .dataframe thead th {\n",
       "        text-align: right;\n",
       "    }\n",
       "</style>\n",
       "<table border=\"1\" class=\"dataframe\">\n",
       "  <thead>\n",
       "    <tr style=\"text-align: right;\">\n",
       "      <th></th>\n",
       "      <th>neighbourhood_full</th>\n",
       "      <th>borough</th>\n",
       "      <th>neighbourhood</th>\n",
       "    </tr>\n",
       "  </thead>\n",
       "  <tbody>\n",
       "    <tr>\n",
       "      <th>0</th>\n",
       "      <td>Brooklyn, Flatlands</td>\n",
       "      <td>Brooklyn</td>\n",
       "      <td>Flatlands</td>\n",
       "    </tr>\n",
       "    <tr>\n",
       "      <th>1</th>\n",
       "      <td>Manhattan, Upper West Side</td>\n",
       "      <td>Manhattan</td>\n",
       "      <td>Upper West Side</td>\n",
       "    </tr>\n",
       "    <tr>\n",
       "      <th>2</th>\n",
       "      <td>Brooklyn, Brooklyn Heights</td>\n",
       "      <td>Brooklyn</td>\n",
       "      <td>Brooklyn Heights</td>\n",
       "    </tr>\n",
       "    <tr>\n",
       "      <th>3</th>\n",
       "      <td>Manhattan, Upper West Side</td>\n",
       "      <td>Manhattan</td>\n",
       "      <td>Upper West Side</td>\n",
       "    </tr>\n",
       "    <tr>\n",
       "      <th>4</th>\n",
       "      <td>Manhattan, Lower East Side</td>\n",
       "      <td>Manhattan</td>\n",
       "      <td>Lower East Side</td>\n",
       "    </tr>\n",
       "  </tbody>\n",
       "</table>\n",
       "</div>"
      ],
      "text/plain": [
       "           neighbourhood_full    borough      neighbourhood\n",
       "0         Brooklyn, Flatlands   Brooklyn          Flatlands\n",
       "1  Manhattan, Upper West Side  Manhattan    Upper West Side\n",
       "2  Brooklyn, Brooklyn Heights   Brooklyn   Brooklyn Heights\n",
       "3  Manhattan, Upper West Side  Manhattan    Upper West Side\n",
       "4  Manhattan, Lower East Side  Manhattan    Lower East Side"
      ]
     },
     "execution_count": 36,
     "metadata": {},
     "output_type": "execute_result"
    }
   ],
   "source": [
    "# Create borough and neighbourhood columns\n",
    "airbnb['borough'] = borough_neighbourhood[0]\n",
    "airbnb['neighbourhood'] = borough_neighbourhood[1]\n",
    "# Print header of columns\n",
    "airbnb[['neighbourhood_full', 'borough', 'neighbourhood']].head()"
   ]
  },
  {
   "cell_type": "code",
   "execution_count": 37,
   "metadata": {
    "colab": {},
    "colab_type": "code",
    "id": "SnflzqkwzCnt"
   },
   "outputs": [],
   "source": [
    "# Drop neighbourhood_full column\n",
    "airbnb.drop('neighbourhood_full', axis = 1, inplace = True)"
   ]
  },
  {
   "cell_type": "code",
   "execution_count": 38,
   "metadata": {
    "colab": {
     "base_uri": "https://localhost:8080/",
     "height": 816
    },
    "colab_type": "code",
    "id": "NJqrhMlNzNxk",
    "outputId": "fb53c48b-df6e-4622-921c-82e8fd715a56"
   },
   "outputs": [
    {
     "name": "stdout",
     "output_type": "stream",
     "text": [
      "['Brooklyn' 'Manhattan' 'Queens' 'Bronx' 'Staten Island']\n",
      "[' Flatlands' ' Upper West Side' ' Brooklyn Heights' ' Lower East Side'\n",
      " ' Greenwich Village' ' Harlem' ' Sheepshead Bay' ' Theater District'\n",
      " ' Bushwick' ' Laurelton' ' Mott Haven' ' Flushing' ' Crown Heights'\n",
      " ' Midtown' ' Financial District' ' East Village' ' Park Slope'\n",
      " ' Washington Heights' ' Williamsburg' ' Chelsea' ' Bedford-Stuyvesant'\n",
      " ' Gowanus' ' Upper East Side' ' Ditmars Steinway' ' Cypress Hills'\n",
      " \" Hell's Kitchen\" ' Ridgewood' ' Marble Hill' ' Kips Bay'\n",
      " ' Prospect Heights' ' East New York' ' Concord' ' Stapleton' ' Astoria'\n",
      " ' East Harlem' ' Sunnyside' ' Gramercy' ' Prospect-Lefferts Gardens'\n",
      " ' Sunset Park' ' Forest Hills' ' Windsor Terrace' ' Clinton Hill'\n",
      " ' Murray Hill' ' Flatiron District' ' Greenpoint' ' East Flatbush'\n",
      " ' Tribeca' ' Woodhaven' ' Fort Greene' ' Inwood' ' Chinatown'\n",
      " ' Rockaway Beach' ' Woodside' ' Bayside' ' Bensonhurst' ' SoHo'\n",
      " ' Red Hook' ' West Village' ' South Slope' ' Richmond Hill' ' Jamaica'\n",
      " ' Boerum Hill' ' St. George' ' Clason Point' ' College Point'\n",
      " ' Vinegar Hill' ' Rego Park' ' East Elmhurst' ' Kensington'\n",
      " ' Roosevelt Island' ' Ozone Park' ' Arverne' ' Fordham' ' Wakefield'\n",
      " ' Port Morris' ' Flatbush' ' Elmhurst' ' Bay Ridge' ' Canarsie'\n",
      " ' Little Italy' ' Civic Center' ' St. Albans' ' Morningside Heights'\n",
      " ' Morrisania' ' Two Bridges' ' Concourse' ' Downtown Brooklyn'\n",
      " ' Queens Village' ' Fieldston' ' Allerton' ' Grymes Hill'\n",
      " ' Carroll Gardens' ' Kingsbridge' ' Belle Harbor' ' NoHo' ' Maspeth'\n",
      " ' Borough Park' ' Midwood' ' Fresh Meadows' ' Battery Park City'\n",
      " ' Pelham Bay' ' Van Nest' ' Long Island City' ' Williamsbridge' ' Nolita'\n",
      " ' Kew Gardens' ' Corona' ' Middle Village' ' Jackson Heights'\n",
      " ' Gravesend' ' New Dorp Beach' ' Brighton Beach' ' Belmont'\n",
      " ' Eltingville' ' South Ozone Park' ' Stuyvesant Town' ' Far Rockaway'\n",
      " ' Longwood' ' Glendale' ' Dongan Hills' ' Hollis' ' Columbia St'\n",
      " ' Tompkinsville' ' Springfield Gardens' ' Concourse Village'\n",
      " ' Throgs Neck' ' Cobble Hill' ' South Beach' ' North Riverdale'\n",
      " ' Rosedale' ' Mount Hope' ' Edenwald' ' Parkchester' ' Mill Basin'\n",
      " ' Brownsville' ' Fort Hamilton' ' Howard Beach' ' Claremont Village'\n",
      " ' Pelham Gardens' ' Westchester Square' ' Kew Gardens Hills' ' Arrochar'\n",
      " ' Edgemere' ' Shore Acres' ' Dyker Heights' ' Mount Eden'\n",
      " ' Randall Manor' ' Jamaica Hills' ' Norwood' ' Tottenville'\n",
      " ' Cambria Heights' ' East Morrisania' ' Soundview' ' Morris Park'\n",
      " ' Bronxdale' ' Bellerose' ' Navy Yard' ' Unionport' ' DUMBO' ' Bayswater'\n",
      " ' Tremont' ' Highbridge' ' Graniteville' ' Baychester' ' Morris Heights'\n",
      " ' Coney Island' ' Briarwood' ' West Farms' \" Prince's Bay\"\n",
      " ' University Heights' ' Clifton' ' Bay Terrace' ' City Island'\n",
      " ' West Brighton' ' Douglaston' ' Schuylerville' ' Port Richmond'\n",
      " ' Oakwood' ' Westerleigh' ' Little Neck' ' Holliswood' ' Bergen Beach'\n",
      " ' Castle Hill' ' Olinville' ' Rosebank' ' Melrose' ' Whitestone'\n",
      " ' Grant City' ' Riverdale' ' Neponsit' ' Bath Beach' ' Mariners Harbor'\n",
      " ' Hunts Point' ' Great Kills' ' Midland Beach' ' Eastchester'\n",
      " ' Jamaica Estates' ' New Springville']\n"
     ]
    }
   ],
   "source": [
    "# Print out unique values of borough and neighbourhood\n",
    "print(airbnb['borough'].unique())\n",
    "print(airbnb['neighbourhood'].unique())"
   ]
  },
  {
   "cell_type": "code",
   "execution_count": 39,
   "metadata": {
    "colab": {
     "base_uri": "https://localhost:8080/",
     "height": 731
    },
    "colab_type": "code",
    "id": "sIC_fuLRz-en",
    "outputId": "76d43de4-1409-44c7-e813-a182b858282e"
   },
   "outputs": [
    {
     "name": "stdout",
     "output_type": "stream",
     "text": [
      "['Flatlands' 'Upper West Side' 'Brooklyn Heights' 'Lower East Side'\n",
      " 'Greenwich Village' 'Harlem' 'Sheepshead Bay' 'Theater District'\n",
      " 'Bushwick' 'Laurelton' 'Mott Haven' 'Flushing' 'Crown Heights' 'Midtown'\n",
      " 'Financial District' 'East Village' 'Park Slope' 'Washington Heights'\n",
      " 'Williamsburg' 'Chelsea' 'Bedford-Stuyvesant' 'Gowanus' 'Upper East Side'\n",
      " 'Ditmars Steinway' 'Cypress Hills' \"Hell's Kitchen\" 'Ridgewood'\n",
      " 'Marble Hill' 'Kips Bay' 'Prospect Heights' 'East New York' 'Concord'\n",
      " 'Stapleton' 'Astoria' 'East Harlem' 'Sunnyside' 'Gramercy'\n",
      " 'Prospect-Lefferts Gardens' 'Sunset Park' 'Forest Hills'\n",
      " 'Windsor Terrace' 'Clinton Hill' 'Murray Hill' 'Flatiron District'\n",
      " 'Greenpoint' 'East Flatbush' 'Tribeca' 'Woodhaven' 'Fort Greene' 'Inwood'\n",
      " 'Chinatown' 'Rockaway Beach' 'Woodside' 'Bayside' 'Bensonhurst' 'SoHo'\n",
      " 'Red Hook' 'West Village' 'South Slope' 'Richmond Hill' 'Jamaica'\n",
      " 'Boerum Hill' 'St. George' 'Clason Point' 'College Point' 'Vinegar Hill'\n",
      " 'Rego Park' 'East Elmhurst' 'Kensington' 'Roosevelt Island' 'Ozone Park'\n",
      " 'Arverne' 'Fordham' 'Wakefield' 'Port Morris' 'Flatbush' 'Elmhurst'\n",
      " 'Bay Ridge' 'Canarsie' 'Little Italy' 'Civic Center' 'St. Albans'\n",
      " 'Morningside Heights' 'Morrisania' 'Two Bridges' 'Concourse'\n",
      " 'Downtown Brooklyn' 'Queens Village' 'Fieldston' 'Allerton' 'Grymes Hill'\n",
      " 'Carroll Gardens' 'Kingsbridge' 'Belle Harbor' 'NoHo' 'Maspeth'\n",
      " 'Borough Park' 'Midwood' 'Fresh Meadows' 'Battery Park City' 'Pelham Bay'\n",
      " 'Van Nest' 'Long Island City' 'Williamsbridge' 'Nolita' 'Kew Gardens'\n",
      " 'Corona' 'Middle Village' 'Jackson Heights' 'Gravesend' 'New Dorp Beach'\n",
      " 'Brighton Beach' 'Belmont' 'Eltingville' 'South Ozone Park'\n",
      " 'Stuyvesant Town' 'Far Rockaway' 'Longwood' 'Glendale' 'Dongan Hills'\n",
      " 'Hollis' 'Columbia St' 'Tompkinsville' 'Springfield Gardens'\n",
      " 'Concourse Village' 'Throgs Neck' 'Cobble Hill' 'South Beach'\n",
      " 'North Riverdale' 'Rosedale' 'Mount Hope' 'Edenwald' 'Parkchester'\n",
      " 'Mill Basin' 'Brownsville' 'Fort Hamilton' 'Howard Beach'\n",
      " 'Claremont Village' 'Pelham Gardens' 'Westchester Square'\n",
      " 'Kew Gardens Hills' 'Arrochar' 'Edgemere' 'Shore Acres' 'Dyker Heights'\n",
      " 'Mount Eden' 'Randall Manor' 'Jamaica Hills' 'Norwood' 'Tottenville'\n",
      " 'Cambria Heights' 'East Morrisania' 'Soundview' 'Morris Park' 'Bronxdale'\n",
      " 'Bellerose' 'Navy Yard' 'Unionport' 'DUMBO' 'Bayswater' 'Tremont'\n",
      " 'Highbridge' 'Graniteville' 'Baychester' 'Morris Heights' 'Coney Island'\n",
      " 'Briarwood' 'West Farms' \"Prince's Bay\" 'University Heights' 'Clifton'\n",
      " 'Bay Terrace' 'City Island' 'West Brighton' 'Douglaston' 'Schuylerville'\n",
      " 'Port Richmond' 'Oakwood' 'Westerleigh' 'Little Neck' 'Holliswood'\n",
      " 'Bergen Beach' 'Castle Hill' 'Olinville' 'Rosebank' 'Melrose'\n",
      " 'Whitestone' 'Grant City' 'Riverdale' 'Neponsit' 'Bath Beach'\n",
      " 'Mariners Harbor' 'Hunts Point' 'Great Kills' 'Midland Beach'\n",
      " 'Eastchester' 'Jamaica Estates' 'New Springville']\n"
     ]
    }
   ],
   "source": [
    "# Strip white space from neighbourhood column\n",
    "airbnb['neighbourhood'] = airbnb['neighbourhood'].str.strip()\n",
    "# Print unique values again\n",
    "print(airbnb['neighbourhood'].unique())"
   ]
  },
  {
   "cell_type": "markdown",
   "metadata": {
    "colab_type": "text",
    "id": "iFUQqbRp1lil"
   },
   "source": [
    "##### **Task 6:** Make sure we set the correct maximum for `rating` column out of range values"
   ]
  },
  {
   "cell_type": "code",
   "execution_count": 40,
   "metadata": {
    "colab": {
     "base_uri": "https://localhost:8080/",
     "height": 279
    },
    "colab_type": "code",
    "id": "Bacl6XSU1zyD",
    "outputId": "9d5484cf-f059-4022-f09f-35d7fb69f240"
   },
   "outputs": [
    {
     "name": "stderr",
     "output_type": "stream",
     "text": [
      "c:\\users\\inpt\\appdata\\local\\programs\\python\\python39\\lib\\site-packages\\seaborn\\distributions.py:2557: FutureWarning: `distplot` is a deprecated function and will be removed in a future version. Please adapt your code to use either `displot` (a figure-level function with similar flexibility) or `histplot` (an axes-level function for histograms).\n",
      "  warnings.warn(msg, FutureWarning)\n"
     ]
    },
    {
     "data": {
      "image/png": "[encoded data removed]",
      "text/plain": [
       "<Figure size 432x288 with 1 Axes>"
      ]
     },
     "metadata": {
      "needs_background": "light"
     },
     "output_type": "display_data"
    }
   ],
   "source": [
    "# Visualize the rating column again\n",
    "sns.distplot(airbnb['rating'], bins = 20)\n",
    "plt.show()"
   ]
  },
  {
   "cell_type": "code",
   "execution_count": 41,
   "metadata": {
    "colab": {
     "base_uri": "https://localhost:8080/",
     "height": 349
    },
    "colab_type": "code",
    "id": "toWXIeUx2C0o",
    "outputId": "544d5863-c5ff-4b01-c299-fe5a17cd04a1"
   },
   "outputs": [
    {
     "data": {
      "text/html": [
       "<div>\n",
       "<style scoped>\n",
       "    .dataframe tbody tr th:only-of-type {\n",
       "        vertical-align: middle;\n",
       "    }\n",
       "\n",
       "    .dataframe tbody tr th {\n",
       "        vertical-align: top;\n",
       "    }\n",
       "\n",
       "    .dataframe thead th {\n",
       "        text-align: right;\n",
       "    }\n",
       "</style>\n",
       "<table border=\"1\" class=\"dataframe\">\n",
       "  <thead>\n",
       "    <tr style=\"text-align: right;\">\n",
       "      <th></th>\n",
       "      <th>listing_id</th>\n",
       "      <th>name</th>\n",
       "      <th>host_id</th>\n",
       "      <th>host_name</th>\n",
       "      <th>room_type</th>\n",
       "      <th>price</th>\n",
       "      <th>number_of_reviews</th>\n",
       "      <th>last_review</th>\n",
       "      <th>reviews_per_month</th>\n",
       "      <th>availability_365</th>\n",
       "      <th>rating</th>\n",
       "      <th>number_of_stays</th>\n",
       "      <th>5_stars</th>\n",
       "      <th>listing_added</th>\n",
       "      <th>latitude</th>\n",
       "      <th>longitude</th>\n",
       "      <th>borough</th>\n",
       "      <th>neighbourhood</th>\n",
       "    </tr>\n",
       "  </thead>\n",
       "  <tbody>\n",
       "    <tr>\n",
       "      <th>1925</th>\n",
       "      <td>36411407</td>\n",
       "      <td>Brand new 1 bedroom steps from Soho!</td>\n",
       "      <td>33917435</td>\n",
       "      <td>Mike</td>\n",
       "      <td>Entire place</td>\n",
       "      <td>150.0</td>\n",
       "      <td>1</td>\n",
       "      <td>2019-07-06</td>\n",
       "      <td>1.0</td>\n",
       "      <td>13</td>\n",
       "      <td>5.017040</td>\n",
       "      <td>1.2</td>\n",
       "      <td>0.870161</td>\n",
       "      <td>2018-12-31</td>\n",
       "      <td>40.71825</td>\n",
       "      <td>-73.99019</td>\n",
       "      <td>Manhattan</td>\n",
       "      <td>Lower East Side</td>\n",
       "    </tr>\n",
       "    <tr>\n",
       "      <th>6732</th>\n",
       "      <td>36390226</td>\n",
       "      <td>Comfortable clean Bedstuy private room</td>\n",
       "      <td>267932490</td>\n",
       "      <td>Angela</td>\n",
       "      <td>Private Room</td>\n",
       "      <td>45.0</td>\n",
       "      <td>2</td>\n",
       "      <td>2019-07-08</td>\n",
       "      <td>2.0</td>\n",
       "      <td>14</td>\n",
       "      <td>5.087091</td>\n",
       "      <td>2.4</td>\n",
       "      <td>0.950339</td>\n",
       "      <td>2019-01-02</td>\n",
       "      <td>40.69551</td>\n",
       "      <td>-73.93951</td>\n",
       "      <td>Brooklyn</td>\n",
       "      <td>Bedford-Stuyvesant</td>\n",
       "    </tr>\n",
       "    <tr>\n",
       "      <th>8821</th>\n",
       "      <td>36413632</td>\n",
       "      <td>Spacious 2BR in Beautiful Brooklyn Heights</td>\n",
       "      <td>6608220</td>\n",
       "      <td>Matt</td>\n",
       "      <td>Entire place</td>\n",
       "      <td>550.0</td>\n",
       "      <td>1</td>\n",
       "      <td>2019-07-07</td>\n",
       "      <td>1.0</td>\n",
       "      <td>230</td>\n",
       "      <td>5.181114</td>\n",
       "      <td>1.2</td>\n",
       "      <td>0.805418</td>\n",
       "      <td>2019-01-01</td>\n",
       "      <td>40.69827</td>\n",
       "      <td>-73.99649</td>\n",
       "      <td>Brooklyn</td>\n",
       "      <td>Brooklyn Heights</td>\n",
       "    </tr>\n",
       "  </tbody>\n",
       "</table>\n",
       "</div>"
      ],
      "text/plain": [
       "      listing_id                                        name    host_id  \\\n",
       "1925    36411407        Brand new 1 bedroom steps from Soho!   33917435   \n",
       "6732    36390226      Comfortable clean Bedstuy private room  267932490   \n",
       "8821    36413632  Spacious 2BR in Beautiful Brooklyn Heights    6608220   \n",
       "\n",
       "     host_name     room_type  price  number_of_reviews last_review  \\\n",
       "1925      Mike  Entire place  150.0                  1  2019-07-06   \n",
       "6732    Angela  Private Room   45.0                  2  2019-07-08   \n",
       "8821      Matt  Entire place  550.0                  1  2019-07-07   \n",
       "\n",
       "      reviews_per_month  availability_365    rating  number_of_stays  \\\n",
       "1925                1.0                13  5.017040              1.2   \n",
       "6732                2.0                14  5.087091              2.4   \n",
       "8821                1.0               230  5.181114              1.2   \n",
       "\n",
       "       5_stars listing_added  latitude  longitude    borough  \\\n",
       "1925  0.870161    2018-12-31  40.71825  -73.99019  Manhattan   \n",
       "6732  0.950339    2019-01-02  40.69551  -73.93951   Brooklyn   \n",
       "8821  0.805418    2019-01-01  40.69827  -73.99649   Brooklyn   \n",
       "\n",
       "           neighbourhood  \n",
       "1925     Lower East Side  \n",
       "6732  Bedford-Stuyvesant  \n",
       "8821    Brooklyn Heights  "
      ]
     },
     "execution_count": 41,
     "metadata": {},
     "output_type": "execute_result"
    }
   ],
   "source": [
    "# Isolate rows of rating > 5.0\n",
    "airbnb[airbnb['rating'] > 5.0]"
   ]
  },
  {
   "cell_type": "code",
   "execution_count": 42,
   "metadata": {
    "colab": {},
    "colab_type": "code",
    "id": "O6GzdjlP2JZN"
   },
   "outputs": [],
   "source": [
    "# Drop these rows and make sure we have effected changes\n",
    "airbnb.drop(airbnb[airbnb['rating'] > 5.0].index, inplace = True)"
   ]
  },
  {
   "cell_type": "code",
   "execution_count": 43,
   "metadata": {
    "colab": {
     "base_uri": "https://localhost:8080/",
     "height": 279
    },
    "colab_type": "code",
    "id": "sjlhjthu3NIP",
    "outputId": "b273f6da-cfc7-4e17-8cc8-833aa3d70f1d"
   },
   "outputs": [
    {
     "name": "stderr",
     "output_type": "stream",
     "text": [
      "c:\\users\\inpt\\appdata\\local\\programs\\python\\python39\\lib\\site-packages\\seaborn\\distributions.py:2557: FutureWarning: `distplot` is a deprecated function and will be removed in a future version. Please adapt your code to use either `displot` (a figure-level function with similar flexibility) or `histplot` (an axes-level function for histograms).\n",
      "  warnings.warn(msg, FutureWarning)\n"
     ]
    },
    {
     "data": {
      "image/png": "[encoded data removed]",
      "text/plain": [
       "<Figure size 432x288 with 1 Axes>"
      ]
     },
     "metadata": {
      "needs_background": "light"
     },
     "output_type": "display_data"
    }
   ],
   "source": [
    "# Visualize the rating column again\n",
    "sns.distplot(airbnb['rating'], bins = 20)\n",
    "plt.show()"
   ]
  },
  {
   "cell_type": "code",
   "execution_count": 44,
   "metadata": {
    "colab": {
     "base_uri": "https://localhost:8080/",
     "height": 34
    },
    "colab_type": "code",
    "id": "ll1KvVJX4Pd3",
    "outputId": "5e1a6b80-1ba8-47f0-88ea-6b53e3cdcd3d"
   },
   "outputs": [
    {
     "data": {
      "text/plain": [
       "4.999561104773598"
      ]
     },
     "execution_count": 44,
     "metadata": {},
     "output_type": "execute_result"
    }
   ],
   "source": [
    "# Get the maximum\n",
    "airbnb['rating'].max()"
   ]
  },
  {
   "cell_type": "markdown",
   "metadata": {
    "colab_type": "text",
    "id": "QFQ-u62X0kqm"
   },
   "source": [
    "## **Q&A**"
   ]
  },
  {
   "cell_type": "markdown",
   "metadata": {
    "colab_type": "text",
    "id": "32vk2-Vn5l3Z"
   },
   "source": [
    "### Dealing with missing data"
   ]
  },
  {
   "cell_type": "markdown",
   "metadata": {
    "colab_type": "text",
    "id": "b2K5RQJLlXvf"
   },
   "source": [
    "The `missingno` (imported as `msno`) package is great for visualizing missing data - we will be using:\n",
    "\n",
    "- `msno.matrix()` visualizes a missingness matrix\n",
    "- `msno.bar()` visualizes a missngness barplot\n",
    "- `plt.show()` to show the plot"
   ]
  },
  {
   "cell_type": "code",
   "execution_count": 45,
   "metadata": {
    "colab": {
     "base_uri": "https://localhost:8080/",
     "height": 631
    },
    "colab_type": "code",
    "id": "spvUQz2K4U4x",
    "outputId": "c54d9037-fd1b-4d51-a679-a98e426f36cb"
   },
   "outputs": [
    {
     "data": {
      "image/png": "[encoded data removed]",
      "text/plain": [
       "<Figure size 1800x720 with 2 Axes>"
      ]
     },
     "metadata": {
      "needs_background": "light"
     },
     "output_type": "display_data"
    }
   ],
   "source": [
    "# Visualize the missingness \n",
    "msno.matrix(airbnb)\n",
    "plt.show()"
   ]
  },
  {
   "cell_type": "markdown",
   "metadata": {
    "colab_type": "text",
    "id": "0zUCNNxvR1LP"
   },
   "source": [
    "Looking at the missingness matrix, we can see that missing values are almost identical between `last_review`, `reviews_per_month`, `rating`, `number_of_stays`, and `5_stars`. Let's confirm this further by sorting on `rating`."
   ]
  },
  {
   "cell_type": "code",
   "execution_count": 46,
   "metadata": {
    "colab": {
     "base_uri": "https://localhost:8080/",
     "height": 631
    },
    "colab_type": "code",
    "id": "G9QLtSbx7pCW",
    "outputId": "e9207ad6-4fb2-45cd-9102-9a7ccedd8c66"
   },
   "outputs": [
    {
     "data": {
      "image/png": "[encoded data removed]",
      "text/plain": [
       "<Figure size 1800x720 with 2 Axes>"
      ]
     },
     "metadata": {
      "needs_background": "light"
     },
     "output_type": "display_data"
    }
   ],
   "source": [
    "# Visualize the missingness on sorted values\n",
    "msno.matrix(airbnb.sort_values(by = 'rating'))\n",
    "plt.show()"
   ]
  },
  {
   "cell_type": "code",
   "execution_count": null,
   "metadata": {
    "colab": {
     "base_uri": "https://localhost:8080/",
     "height": 710
    },
    "colab_type": "code",
    "id": "W5vfZi03RwwY",
    "outputId": "3551e02c-8151-4cf7-9aaa-eb734120c634"
   },
   "outputs": [],
   "source": [
    "# Missingness barplot\n",
    "msno.bar(airbnb)"
   ]
  },
  {
   "cell_type": "markdown",
   "metadata": {
    "colab_type": "text",
    "id": "27XSigJyg8Di"
   },
   "source": [
    "**Treating the** `rating`, `number_of_stays`, `5_stars`, `reviews_per_month` **columns**"
   ]
  },
  {
   "cell_type": "code",
   "execution_count": null,
   "metadata": {
    "colab": {
     "base_uri": "https://localhost:8080/",
     "height": 297
    },
    "colab_type": "code",
    "id": "pKuLIznfSv3H",
    "outputId": "5746d507-ec08-41f2-b512-7012d375ebc7"
   },
   "outputs": [],
   "source": [
    "# Understand DataFrame with missing values in rating, number_of_stays, 5_stars, reviews_per_month\n",
    "airbnb[airbnb['rating'].isna()].describe()"
   ]
  },
  {
   "cell_type": "code",
   "execution_count": null,
   "metadata": {
    "colab": {
     "base_uri": "https://localhost:8080/",
     "height": 317
    },
    "colab_type": "code",
    "id": "ij5BmX2gTnrW",
    "outputId": "ffedee18-97e5-4398-c77d-7e2998a7d273"
   },
   "outputs": [],
   "source": [
    "# Understand DataFrame with no missing values in rating, number_of_stays, 5_stars, reviews_per_month\n",
    "airbnb[~airbnb['rating'].isna()].describe()"
   ]
  },
  {
   "cell_type": "markdown",
   "metadata": {
    "colab_type": "text",
    "id": "u4eBTzRwYKhc"
   },
   "source": [
    "Looking at the missing data in the DataFrame - we can see that `number_of_reviews` across all missing rows is 0. We can infer that these listings have never been visited - hence could be inferred they're inactive/have never been visited. \n",
    "\n",
    "We can impute them as following:\n",
    "\n",
    "- Set `NaN` for `reviews_per_month`, `number_of_stays`, `5_stars` to 0.\n",
    "- Since a `rating` did not happen, let's keep the column as is - but create a new column named `rated` that takes in `1` if yes, `0` if no.\n",
    "- We will also leave `last_review` as is.\n"
   ]
  },
  {
   "cell_type": "code",
   "execution_count": null,
   "metadata": {
    "colab": {},
    "colab_type": "code",
    "id": "tuRNdMvungIq"
   },
   "outputs": [],
   "source": [
    "# Impute missing data\n",
    "airbnb = airbnb.fillna({'reviews_per_month':0,\n",
    "                        'number_of_stays':0,\n",
    "                        '5_stars':0})\n",
    "\n",
    "# Create is_rated column\n",
    "is_rated = np.where(airbnb['rating'].isna() == True, 0, 1)\n",
    "airbnb['is_rated'] = is_rated"
   ]
  },
  {
   "cell_type": "markdown",
   "metadata": {
    "colab_type": "text",
    "id": "lsPP28Xzg9_z"
   },
   "source": [
    "**Treating the** `price` **column**"
   ]
  },
  {
   "cell_type": "code",
   "execution_count": null,
   "metadata": {
    "colab": {
     "base_uri": "https://localhost:8080/",
     "height": 317
    },
    "colab_type": "code",
    "id": "lLJJG-SmYLh7",
    "outputId": "520cdf54-4ba6-45ca-8f64-661bdc8ec21e"
   },
   "outputs": [],
   "source": [
    "# Investigate DataFrame with missing values in price\n",
    "airbnb[airbnb['price'].isna()].describe()"
   ]
  },
  {
   "cell_type": "code",
   "execution_count": null,
   "metadata": {
    "colab": {
     "base_uri": "https://localhost:8080/",
     "height": 317
    },
    "colab_type": "code",
    "id": "dluvKIkXr3yV",
    "outputId": "c6de634f-dece-423d-c39c-dcee787c2cf9"
   },
   "outputs": [],
   "source": [
    "# Investigate DataFrame with missing values in price\n",
    "airbnb[~airbnb['price'].isna()].count()\n",
    "#airbnb[~airbnb['price'].isna()].describe()"
   ]
  },
  {
   "cell_type": "markdown",
   "metadata": {
    "colab_type": "text",
    "id": "qxAJtTZ4hEtv"
   },
   "source": [
    "From a common sense perspective, the most predictive factor for a room's price is the `room_type` column, so let's visualize how price varies by room type with `sns.boxplot()` which displays the following information:\n",
    "\n",
    "\n",
    "<p align=\"center\">\n",
    "<img src=\"https://github.com/adelnehme/cleaning-data-in-python-live-training/blob/master/boxplot.png?raw=true\" alt = \"DataCamp icon\" width=\"80%\">\n",
    "</p>\n",
    "\n",
    "\n"
   ]
  },
  {
   "cell_type": "code",
   "execution_count": null,
   "metadata": {
    "colab": {
     "base_uri": "https://localhost:8080/",
     "height": 283
    },
    "colab_type": "code",
    "id": "CdHj-mMDtgRE",
    "outputId": "e08b274d-43d1-488c-a52a-b24eb5727b54"
   },
   "outputs": [],
   "source": [
    "# Visualize relationship between price and room_type\n",
    "sns.boxplot(x = 'room_type', y = 'price', data = airbnb)\n",
    "plt.ylim(0, 400)\n",
    "plt.xlabel('Room Type')\n",
    "plt.ylabel('Price')\n",
    "plt.show()"
   ]
  },
  {
   "cell_type": "code",
   "execution_count": null,
   "metadata": {
    "colab": {
     "base_uri": "https://localhost:8080/",
     "height": 102
    },
    "colab_type": "code",
    "id": "GzAmpxWzsqRb",
    "outputId": "5d85fe53-781f-41dd-cec8-9d68e6dc6446"
   },
   "outputs": [],
   "source": [
    "# Get median price per room_type\n",
    "airbnb.groupby('room_type').median()['price']"
   ]
  },
  {
   "cell_type": "code",
   "execution_count": null,
   "metadata": {
    "colab": {},
    "colab_type": "code",
    "id": "AmaKYXPRypq7"
   },
   "outputs": [],
   "source": [
    "# Impute price based on conditions\n",
    "airbnb.loc[(airbnb['price'].isna()) & (airbnb['room_type'] == 'Entire place'), 'price'] = 163.0\n",
    "airbnb.loc[(airbnb['price'].isna()) & (airbnb['room_type'] == 'Private Room'), 'price'] = 70.0\n",
    "airbnb.loc[(airbnb['price'].isna()) & (airbnb['room_type'] == 'Shared Room'), 'price'] = 50.0\n",
    "airbnb.loc[(airbnb['price'].isna()) & (airbnb['room_type'] == 'Shared room'), 'price'] = 50.0"
   ]
  },
  {
   "cell_type": "code",
   "execution_count": null,
   "metadata": {},
   "outputs": [],
   "source": [
    "airbnb[airbnb['price'].isna()]"
   ]
  },
  {
   "cell_type": "code",
   "execution_count": null,
   "metadata": {
    "colab": {
     "base_uri": "https://localhost:8080/",
     "height": 357
    },
    "colab_type": "code",
    "id": "bTJafaijzDkc",
    "outputId": "7d053a08-9c9a-461a-d095-795df2964f3f"
   },
   "outputs": [],
   "source": [
    "# Confirm price has been imputed\n",
    "airbnb.isna().sum()"
   ]
  },
  {
   "cell_type": "markdown",
   "metadata": {
    "colab_type": "text",
    "id": "VnxYYabO0Bdt"
   },
   "source": [
    "### What's still to be done?"
   ]
  },
  {
   "cell_type": "markdown",
   "metadata": {
    "colab_type": "text",
    "id": "q2cyXCxk0VP3"
   },
   "source": [
    "Albeit we've done a significant amount of data cleaning tasks, there are still a couple of problems we have yet to diagnose. When cleaning data, we need to consider:\n",
    "\n",
    "- Values that do not make any sense *(for example: are there values of `last_review` that older than `listing_added`? Are there listings in the future?*)\n",
    "- Presence of duplicates values - and how to deal with them?"
   ]
  },
  {
   "cell_type": "markdown",
   "metadata": {
    "colab_type": "text",
    "id": "KGpasg3L6Je4"
   },
   "source": [
    "##### **Task 8:** Do we have consistent date data?"
   ]
  },
  {
   "cell_type": "code",
   "execution_count": null,
   "metadata": {
    "colab": {},
    "colab_type": "code",
    "id": "jT_hz8Dj0EhB"
   },
   "outputs": [],
   "source": [
    "# Doing some sanity checks on date data\n",
    "today = dt.date.today()"
   ]
  },
  {
   "cell_type": "code",
   "execution_count": null,
   "metadata": {
    "colab": {
     "base_uri": "https://localhost:8080/",
     "height": 69
    },
    "colab_type": "code",
    "id": "pUKi4Dbi27Zb",
    "outputId": "a34f2e24-1ae0-42ce-f779-437549f1dce8"
   },
   "outputs": [],
   "source": [
    "# Are there reviews in the future?\n",
    "airbnb[airbnb['last_review'].dt.date > today]"
   ]
  },
  {
   "cell_type": "code",
   "execution_count": null,
   "metadata": {
    "colab": {
     "base_uri": "https://localhost:8080/",
     "height": 499
    },
    "colab_type": "code",
    "id": "dZO_yoOZ2-jf",
    "outputId": "44ea0a3e-dbec-49fd-c004-27fe8d14ada4"
   },
   "outputs": [],
   "source": [
    "# Are there listings in the future?\n",
    "airbnb[airbnb['listing_added'].dt.date > today]"
   ]
  },
  {
   "cell_type": "code",
   "execution_count": null,
   "metadata": {
    "colab": {},
    "colab_type": "code",
    "id": "3xJUlJFm3cmc"
   },
   "outputs": [],
   "source": [
    "# Drop these rows since they are only 4 rows\n",
    "airbnb = airbnb[~(airbnb['listing_added'].dt.date > today)]"
   ]
  },
  {
   "cell_type": "code",
   "execution_count": null,
   "metadata": {
    "colab": {
     "base_uri": "https://localhost:8080/",
     "height": 250
    },
    "colab_type": "code",
    "id": "BvqMxmux4e_Q",
    "outputId": "acda368c-0aaf-4ea2-fce3-583502a1a4d1"
   },
   "outputs": [],
   "source": [
    "# Are there any listings with listing_added > last_review\n",
    "inconsistent_dates = airbnb[airbnb['listing_added'].dt.date > airbnb['last_review'].dt.date]\n",
    "inconsistent_dates"
   ]
  },
  {
   "cell_type": "code",
   "execution_count": null,
   "metadata": {
    "colab": {},
    "colab_type": "code",
    "id": "cCziTT7T4xbT"
   },
   "outputs": [],
   "source": [
    "# Drop these rows since they are only 2 rows\n",
    "airbnb.drop(inconsistent_dates.index, inplace = True)"
   ]
  },
  {
   "cell_type": "markdown",
   "metadata": {
    "colab_type": "text",
    "id": "JD1ChXPF6BR7"
   },
   "source": [
    "##### **Task 9:** Let's deal with duplicate data"
   ]
  },
  {
   "cell_type": "markdown",
   "metadata": {
    "colab_type": "text",
    "id": "hz9oQHyt8KmO"
   },
   "source": [
    "\n",
    "There are two notable types of duplicate data:\n",
    "\n",
    "- Identical duplicate data across all columns\n",
    "- Identical duplicate data cross most or some columns\n",
    "\n",
    "To diagnose, and deal with duplicate data, we will be using the following methods and functions:\n",
    "\n",
    "- `.duplicated(subset = , keep = )`\n",
    "  - `subset` lets us pick one or more columns with duplicate values.\n",
    "  - `keep` returns lets us return all instances of duplicate values.\n",
    "- `.drop_duplicates(subset = , keep = )`\n",
    "  "
   ]
  },
  {
   "cell_type": "code",
   "execution_count": null,
   "metadata": {
    "colab": {
     "base_uri": "https://localhost:8080/",
     "height": 462
    },
    "colab_type": "code",
    "id": "_m3Gdg7x6ATJ",
    "outputId": "d66e76c5-0d10-4b8b-ded5-f0299630652e"
   },
   "outputs": [],
   "source": [
    "# Print the header of the DataFrame again\n",
    "airbnb.head()"
   ]
  },
  {
   "cell_type": "code",
   "execution_count": null,
   "metadata": {
    "colab": {
     "base_uri": "https://localhost:8080/",
     "height": 221
    },
    "colab_type": "code",
    "id": "EzT8q3SCIW7w",
    "outputId": "72825341-2a6b-4db3-b32a-ab1a806be314"
   },
   "outputs": [],
   "source": [
    "# Find duplicates\n",
    "duplicates = airbnb.duplicated(subset = 'listing_id', keep = False)\n",
    "print(duplicates)"
   ]
  },
  {
   "cell_type": "code",
   "execution_count": null,
   "metadata": {
    "colab": {
     "base_uri": "https://localhost:8080/",
     "height": 1000
    },
    "colab_type": "code",
    "id": "pqVxdea4Ik5g",
    "outputId": "c7b21e06-1fc6-4466-9bdf-64509d3c5a6a"
   },
   "outputs": [],
   "source": [
    "# Find duplicates\n",
    "airbnb[duplicates].sort_values('listing_id')"
   ]
  },
  {
   "cell_type": "code",
   "execution_count": null,
   "metadata": {
    "colab": {},
    "colab_type": "code",
    "id": "uSXEpMFlJCJc"
   },
   "outputs": [],
   "source": [
    "# Remove identical duplicates\n",
    "airbnb = airbnb.drop_duplicates()"
   ]
  },
  {
   "cell_type": "code",
   "execution_count": null,
   "metadata": {
    "colab": {},
    "colab_type": "code",
    "id": "nYf1M1cNKIIN"
   },
   "outputs": [],
   "source": [
    "# Find non-identical duplicates\n",
    "duplicates = airbnb.duplicated(subset = 'listing_id', keep = False)"
   ]
  },
  {
   "cell_type": "code",
   "execution_count": null,
   "metadata": {
    "colab": {
     "base_uri": "https://localhost:8080/",
     "height": 1000
    },
    "colab_type": "code",
    "id": "wiN1SBw8Kizr",
    "outputId": "2cdb3279-a0e0-4806-9bbe-2506539332c4"
   },
   "outputs": [],
   "source": [
    "# Show all duplicates\n",
    "airbnb[duplicates].sort_values('listing_id')"
   ]
  },
  {
   "cell_type": "markdown",
   "metadata": {
    "colab_type": "text",
    "id": "E6_O2EYkcGoF"
   },
   "source": [
    "To treat identical duplicates across some columns, we will chain the `.groupby()` and `.agg()` methods where we group by the column used to find duplicates (`listing_id`) and aggregate across statistical measures for `price`, `rating` and `list_added`. The `.agg()` method takes in a dictionary with each column's aggregation method - we will use the following aggregations:\n",
    "\n",
    "- `mean` for `price` and `rating` columns\n",
    "- `max` for `listing_added` column\n",
    "- `first` for all remaining column\n",
    "\n",
    "*A note on dictionary comprehensions:*\n",
    "\n",
    "Dictionaries are useful data structures in Python with the following format\n",
    "`my_dictionary = {key: value}` where a `key` is mapped to a `value` and whose `value` can be returned with `my_dictionary[key]` - dictionary comprehensions allow us to programmatically create dicitonaries using the structure:\n",
    "\n",
    "```\n",
    "{x: x*2 for x in [1,2,3,4,5]} \n",
    "{1:2, 2:4, 3:6, 4:8, 5:10}\n",
    "```"
   ]
  },
  {
   "cell_type": "code",
   "execution_count": null,
   "metadata": {
    "colab": {
     "base_uri": "https://localhost:8080/",
     "height": 102
    },
    "colab_type": "code",
    "id": "lYhIclpMqa_i",
    "outputId": "a9fb963d-8b7b-4db8-e8f1-a1ffc13835be"
   },
   "outputs": [],
   "source": [
    "# Get column names from airbnb\n",
    "column_names = airbnb.columns\n",
    "column_names"
   ]
  },
  {
   "cell_type": "code",
   "execution_count": null,
   "metadata": {
    "colab": {
     "base_uri": "https://localhost:8080/",
     "height": 323
    },
    "colab_type": "code",
    "id": "CxCJ3xPbKmJg",
    "outputId": "41b354f9-6a4f-4ccc-d6ac-57b8030400ef"
   },
   "outputs": [],
   "source": [
    "# Create dictionary comprehension with 'first' as value for all columns not being aggregated\n",
    "aggregations = {column_name:'first' for column_name in column_names.difference(['listing_id', 'listing_added', 'rating', 'price'])}\n",
    "aggregations['price'] = 'mean'\n",
    "aggregations['rating'] = 'mean'\n",
    "aggregations['listing_added'] = 'max'\n",
    "aggregations"
   ]
  },
  {
   "cell_type": "code",
   "execution_count": null,
   "metadata": {
    "colab": {},
    "colab_type": "code",
    "id": "jaS5j-KsRUD-"
   },
   "outputs": [],
   "source": [
    "# Remove non-identical duplicates\n",
    "airbnb = airbnb.groupby('listing_id').agg(aggregations).reset_index()"
   ]
  },
  {
   "cell_type": "code",
   "execution_count": null,
   "metadata": {
    "colab": {
     "base_uri": "https://localhost:8080/",
     "height": 69
    },
    "colab_type": "code",
    "id": "q93L6waFWpTq",
    "outputId": "fc9621eb-236e-40c3-e087-f23393ec4e23"
   },
   "outputs": [],
   "source": [
    "# Make sure no duplication happened\n",
    "airbnb[airbnb.duplicated('listing_id', keep = False)]"
   ]
  },
  {
   "cell_type": "code",
   "execution_count": null,
   "metadata": {
    "colab": {
     "base_uri": "https://localhost:8080/",
     "height": 445
    },
    "colab_type": "code",
    "id": "ZmIRBaZgW4q2",
    "outputId": "86fdbcff-636a-4b20-c310-a070c3857b3a"
   },
   "outputs": [],
   "source": [
    "# Print header of DataFrame\n",
    "airbnb.head()"
   ]
  },
  {
   "cell_type": "markdown",
   "metadata": {
    "colab_type": "text",
    "id": "fW7anvxr0rRp"
   },
   "source": [
    "## **Q&A**"
   ]
  },
  {
   "cell_type": "markdown",
   "metadata": {
    "colab_type": "text",
    "id": "vIhIK0Cd_hGs"
   },
   "source": [
    "### Take home question\n",
    "\n",
    "Try to answer the following questions about the dataset:\n",
    "\n",
    "- propose an other cleaning action on this dataset\n"
   ]
  }
 ],
 "metadata": {
  "colab": {
   "name": "Cleaning Data in Python live session.ipynb",
   "provenance": []
  },
  "kernelspec": {
   "display_name": "Python 3",
   "language": "python",
   "name": "python3"
  },
  "language_info": {
   "codemirror_mode": {
    "name": "ipython",
    "version": 3
   },
   "file_extension": ".py",
   "mimetype": "text/x-python",
   "name": "python",
   "nbconvert_exporter": "python",
   "pygments_lexer": "ipython3",
   "version": "3.10.2"
  },
  "vscode": {
   "interpreter": {
    "hash": "26de051ba29f2982a8de78e945f0abaf191376122a1563185a90213a26c5da77"
   }
  }
 },
 "nbformat": 4,
 "nbformat_minor": 1
}
